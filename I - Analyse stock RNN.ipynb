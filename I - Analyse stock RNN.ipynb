{
 "cells": [
  {
   "cell_type": "markdown",
   "id": "326a9f2d",
   "metadata": {},
   "source": [
    "## Abstract"
   ]
  },
  {
   "cell_type": "markdown",
   "id": "d28aba3b",
   "metadata": {},
   "source": [
    "- Télécharger les cours de bourses\n",
    "- Produire lunr nouvelle dataframe faisant étant des MAE pour chaque prévision de cours "
   ]
  },
  {
   "cell_type": "markdown",
   "id": "415245e5",
   "metadata": {},
   "source": [
    "## Bibliothèques"
   ]
  },
  {
   "cell_type": "code",
   "execution_count": 1,
   "id": "b71fed22",
   "metadata": {},
   "outputs": [],
   "source": [
    "# Générique data project\n",
    "import pandas as pd\n",
    "import numpy as np\n",
    "import matplotlib.pyplot as plt\n",
    "import seaborn as sns\n",
    "\n",
    "import plotly.express as px\n",
    "import plotly.graph_objects as go\n",
    "\n",
    "# Pour la manipulation de fichiers\n",
    "import os\n",
    "import glob\n",
    "from pathlib import Path\n",
    "\n",
    "# Pour RNN\n",
    "import tensorflow as tf\n",
    "from tensorflow import keras\n",
    "from tensorflow.keras.callbacks import TensorBoard\n",
    "from tensorflow.keras.preprocessing.sequence import TimeseriesGenerator\n",
    "from tensorflow.keras.layers import Dense, RNN,GRUCell,InputLayer,Embedding,Dropout\n",
    "\n",
    "\n",
    "# MISC\n",
    "import warnings\n",
    "warnings.filterwarnings(\"ignore\")\n",
    "import swifter\n",
    "import random"
   ]
  },
  {
   "cell_type": "markdown",
   "id": "2e25b907",
   "metadata": {},
   "source": [
    "## Set up"
   ]
  },
  {
   "cell_type": "code",
   "execution_count": 2,
   "id": "d07e3ebf",
   "metadata": {},
   "outputs": [
    {
     "data": {
      "text/html": [
       "<div>\n",
       "<style scoped>\n",
       "    .dataframe tbody tr th:only-of-type {\n",
       "        vertical-align: middle;\n",
       "    }\n",
       "\n",
       "    .dataframe tbody tr th {\n",
       "        vertical-align: top;\n",
       "    }\n",
       "\n",
       "    .dataframe thead th {\n",
       "        text-align: right;\n",
       "    }\n",
       "</style>\n",
       "<table border=\"1\" class=\"dataframe\">\n",
       "  <thead>\n",
       "    <tr style=\"text-align: right;\">\n",
       "      <th></th>\n",
       "      <th>Date</th>\n",
       "      <th>Symbol</th>\n",
       "      <th>Adj Close</th>\n",
       "      <th>Close</th>\n",
       "      <th>High</th>\n",
       "      <th>Low</th>\n",
       "      <th>Open</th>\n",
       "      <th>Volume</th>\n",
       "    </tr>\n",
       "  </thead>\n",
       "  <tbody>\n",
       "    <tr>\n",
       "      <th>1</th>\n",
       "      <td>2010-01-04</td>\n",
       "      <td>MMM</td>\n",
       "      <td>59.318886</td>\n",
       "      <td>83.019997</td>\n",
       "      <td>83.449997</td>\n",
       "      <td>82.669998</td>\n",
       "      <td>83.089996</td>\n",
       "      <td>3043700.0</td>\n",
       "    </tr>\n",
       "    <tr>\n",
       "      <th>2</th>\n",
       "      <td>2010-01-05</td>\n",
       "      <td>MMM</td>\n",
       "      <td>58.947342</td>\n",
       "      <td>82.500000</td>\n",
       "      <td>83.230003</td>\n",
       "      <td>81.699997</td>\n",
       "      <td>82.800003</td>\n",
       "      <td>2847000.0</td>\n",
       "    </tr>\n",
       "    <tr>\n",
       "      <th>3</th>\n",
       "      <td>2010-01-06</td>\n",
       "      <td>MMM</td>\n",
       "      <td>59.783295</td>\n",
       "      <td>83.669998</td>\n",
       "      <td>84.599998</td>\n",
       "      <td>83.510002</td>\n",
       "      <td>83.879997</td>\n",
       "      <td>5268500.0</td>\n",
       "    </tr>\n",
       "    <tr>\n",
       "      <th>4</th>\n",
       "      <td>2010-01-07</td>\n",
       "      <td>MMM</td>\n",
       "      <td>59.826176</td>\n",
       "      <td>83.730003</td>\n",
       "      <td>83.760002</td>\n",
       "      <td>82.120003</td>\n",
       "      <td>83.320000</td>\n",
       "      <td>4470100.0</td>\n",
       "    </tr>\n",
       "    <tr>\n",
       "      <th>5</th>\n",
       "      <td>2010-01-08</td>\n",
       "      <td>MMM</td>\n",
       "      <td>60.247749</td>\n",
       "      <td>84.320000</td>\n",
       "      <td>84.320000</td>\n",
       "      <td>83.300003</td>\n",
       "      <td>83.690002</td>\n",
       "      <td>3405800.0</td>\n",
       "    </tr>\n",
       "    <tr>\n",
       "      <th>...</th>\n",
       "      <td>...</td>\n",
       "      <td>...</td>\n",
       "      <td>...</td>\n",
       "      <td>...</td>\n",
       "      <td>...</td>\n",
       "      <td>...</td>\n",
       "      <td>...</td>\n",
       "      <td>...</td>\n",
       "    </tr>\n",
       "    <tr>\n",
       "      <th>1561387</th>\n",
       "      <td>2022-04-07</td>\n",
       "      <td>ZTS</td>\n",
       "      <td>197.929993</td>\n",
       "      <td>197.929993</td>\n",
       "      <td>199.339996</td>\n",
       "      <td>190.970001</td>\n",
       "      <td>191.199997</td>\n",
       "      <td>2781400.0</td>\n",
       "    </tr>\n",
       "    <tr>\n",
       "      <th>1561388</th>\n",
       "      <td>2022-04-08</td>\n",
       "      <td>ZTS</td>\n",
       "      <td>200.089996</td>\n",
       "      <td>200.089996</td>\n",
       "      <td>201.320007</td>\n",
       "      <td>197.589996</td>\n",
       "      <td>197.789993</td>\n",
       "      <td>2455500.0</td>\n",
       "    </tr>\n",
       "    <tr>\n",
       "      <th>1561389</th>\n",
       "      <td>2022-04-11</td>\n",
       "      <td>ZTS</td>\n",
       "      <td>192.500000</td>\n",
       "      <td>192.500000</td>\n",
       "      <td>199.880005</td>\n",
       "      <td>192.009995</td>\n",
       "      <td>198.970001</td>\n",
       "      <td>2252200.0</td>\n",
       "    </tr>\n",
       "    <tr>\n",
       "      <th>1561390</th>\n",
       "      <td>2022-04-12</td>\n",
       "      <td>ZTS</td>\n",
       "      <td>187.910004</td>\n",
       "      <td>187.910004</td>\n",
       "      <td>193.309998</td>\n",
       "      <td>187.149994</td>\n",
       "      <td>192.110001</td>\n",
       "      <td>1746500.0</td>\n",
       "    </tr>\n",
       "    <tr>\n",
       "      <th>1561391</th>\n",
       "      <td>2022-04-13</td>\n",
       "      <td>ZTS</td>\n",
       "      <td>189.520004</td>\n",
       "      <td>189.520004</td>\n",
       "      <td>190.070007</td>\n",
       "      <td>186.050003</td>\n",
       "      <td>187.990005</td>\n",
       "      <td>1517800.0</td>\n",
       "    </tr>\n",
       "  </tbody>\n",
       "</table>\n",
       "<p>1490667 rows × 8 columns</p>\n",
       "</div>"
      ],
      "text/plain": [
       "               Date Symbol   Adj Close       Close        High         Low  \\\n",
       "1        2010-01-04    MMM   59.318886   83.019997   83.449997   82.669998   \n",
       "2        2010-01-05    MMM   58.947342   82.500000   83.230003   81.699997   \n",
       "3        2010-01-06    MMM   59.783295   83.669998   84.599998   83.510002   \n",
       "4        2010-01-07    MMM   59.826176   83.730003   83.760002   82.120003   \n",
       "5        2010-01-08    MMM   60.247749   84.320000   84.320000   83.300003   \n",
       "...             ...    ...         ...         ...         ...         ...   \n",
       "1561387  2022-04-07    ZTS  197.929993  197.929993  199.339996  190.970001   \n",
       "1561388  2022-04-08    ZTS  200.089996  200.089996  201.320007  197.589996   \n",
       "1561389  2022-04-11    ZTS  192.500000  192.500000  199.880005  192.009995   \n",
       "1561390  2022-04-12    ZTS  187.910004  187.910004  193.309998  187.149994   \n",
       "1561391  2022-04-13    ZTS  189.520004  189.520004  190.070007  186.050003   \n",
       "\n",
       "               Open     Volume  \n",
       "1         83.089996  3043700.0  \n",
       "2         82.800003  2847000.0  \n",
       "3         83.879997  5268500.0  \n",
       "4         83.320000  4470100.0  \n",
       "5         83.690002  3405800.0  \n",
       "...             ...        ...  \n",
       "1561387  191.199997  2781400.0  \n",
       "1561388  197.789993  2455500.0  \n",
       "1561389  198.970001  2252200.0  \n",
       "1561390  192.110001  1746500.0  \n",
       "1561391  187.990005  1517800.0  \n",
       "\n",
       "[1490667 rows x 8 columns]"
      ]
     },
     "execution_count": 2,
     "metadata": {},
     "output_type": "execute_result"
    }
   ],
   "source": [
    "df = pd.read_csv('sp500_stocks.csv')\n",
    "df = df.dropna()\n",
    "df"
   ]
  },
  {
   "cell_type": "markdown",
   "id": "cbd68c9d",
   "metadata": {},
   "source": [
    "On affiche les 10 premières société présentant le plus d'entrées"
   ]
  },
  {
   "cell_type": "code",
   "execution_count": 3,
   "id": "4e0bc072",
   "metadata": {},
   "outputs": [],
   "source": [
    "dictus = {}\n",
    "\n",
    "for comp in df.Symbol.unique():\n",
    "    TEMP = df[df['Symbol']==comp]\n",
    "    dictus[comp]=len(TEMP)\n",
    "    \n",
    "visu = pd.DataFrame.from_dict(dictus,orient ='index').rename(columns={0:'Longueur'}).sort_values(by=['Longueur'],ascending=False) "
   ]
  },
  {
   "cell_type": "code",
   "execution_count": 4,
   "id": "6480c863",
   "metadata": {},
   "outputs": [
    {
     "data": {
      "text/html": [
       "<div>\n",
       "<style scoped>\n",
       "    .dataframe tbody tr th:only-of-type {\n",
       "        vertical-align: middle;\n",
       "    }\n",
       "\n",
       "    .dataframe tbody tr th {\n",
       "        vertical-align: top;\n",
       "    }\n",
       "\n",
       "    .dataframe thead th {\n",
       "        text-align: right;\n",
       "    }\n",
       "</style>\n",
       "<table border=\"1\" class=\"dataframe\">\n",
       "  <thead>\n",
       "    <tr style=\"text-align: right;\">\n",
       "      <th></th>\n",
       "      <th>Longueur</th>\n",
       "    </tr>\n",
       "  </thead>\n",
       "  <tbody>\n",
       "    <tr>\n",
       "      <th>MMM</th>\n",
       "      <td>3092</td>\n",
       "    </tr>\n",
       "    <tr>\n",
       "      <th>MPWR</th>\n",
       "      <td>3092</td>\n",
       "    </tr>\n",
       "    <tr>\n",
       "      <th>NEE</th>\n",
       "      <td>3092</td>\n",
       "    </tr>\n",
       "    <tr>\n",
       "      <th>NEM</th>\n",
       "      <td>3092</td>\n",
       "    </tr>\n",
       "    <tr>\n",
       "      <th>NWL</th>\n",
       "      <td>3092</td>\n",
       "    </tr>\n",
       "    <tr>\n",
       "      <th>NFLX</th>\n",
       "      <td>3092</td>\n",
       "    </tr>\n",
       "    <tr>\n",
       "      <th>NTAP</th>\n",
       "      <td>3092</td>\n",
       "    </tr>\n",
       "    <tr>\n",
       "      <th>NDAQ</th>\n",
       "      <td>3092</td>\n",
       "    </tr>\n",
       "    <tr>\n",
       "      <th>MSCI</th>\n",
       "      <td>3092</td>\n",
       "    </tr>\n",
       "    <tr>\n",
       "      <th>MSI</th>\n",
       "      <td>3092</td>\n",
       "    </tr>\n",
       "  </tbody>\n",
       "</table>\n",
       "</div>"
      ],
      "text/plain": [
       "      Longueur\n",
       "MMM       3092\n",
       "MPWR      3092\n",
       "NEE       3092\n",
       "NEM       3092\n",
       "NWL       3092\n",
       "NFLX      3092\n",
       "NTAP      3092\n",
       "NDAQ      3092\n",
       "MSCI      3092\n",
       "MSI       3092"
      ]
     },
     "execution_count": 4,
     "metadata": {},
     "output_type": "execute_result"
    }
   ],
   "source": [
    "visu.head(10)"
   ]
  },
  {
   "cell_type": "code",
   "execution_count": 5,
   "id": "12a4ae82",
   "metadata": {},
   "outputs": [],
   "source": [
    "DF = df[df['Symbol']=='DXC']"
   ]
  },
  {
   "cell_type": "markdown",
   "id": "7961f6f9",
   "metadata": {},
   "source": [
    "## Paramètres"
   ]
  },
  {
   "cell_type": "code",
   "execution_count": 6,
   "id": "5ff19b37",
   "metadata": {},
   "outputs": [],
   "source": [
    "sequence_len = 20\n",
    "predict_len  = 5\n",
    "train_prop    = 0.8\n",
    "batch_size    = 32\n",
    "epok        = 20\n",
    "cwd = os.getcwd()\n",
    "path = cwd"
   ]
  },
  {
   "cell_type": "markdown",
   "id": "8612e757",
   "metadata": {},
   "source": [
    "## Préparation "
   ]
  },
  {
   "cell_type": "markdown",
   "id": "4d309ea0",
   "metadata": {},
   "source": [
    "On choisi la variable à étudier"
   ]
  },
  {
   "cell_type": "code",
   "execution_count": 7,
   "id": "d9e52953",
   "metadata": {},
   "outputs": [],
   "source": [
    "dataset = np.array(DF.Close)"
   ]
  },
  {
   "cell_type": "code",
   "execution_count": 8,
   "id": "1bb9b8c2",
   "metadata": {},
   "outputs": [
    {
     "data": {
      "text/plain": [
       "array([28.6860199 , 28.67608261, 28.78041458, ..., 30.87999916,\n",
       "       30.70000076, 31.01000023])"
      ]
     },
     "execution_count": 8,
     "metadata": {},
     "output_type": "execute_result"
    }
   ],
   "source": [
    "dataset"
   ]
  },
  {
   "cell_type": "markdown",
   "id": "e092ec15",
   "metadata": {},
   "source": [
    "On scinde l'ensemble en jeu de données et jeu d'entrainement"
   ]
  },
  {
   "cell_type": "code",
   "execution_count": 9,
   "id": "2d97691f",
   "metadata": {},
   "outputs": [],
   "source": [
    "k = int(len(dataset)*train_prop)\n",
    "x_train = dataset[:k]\n",
    "x_test  = dataset[k:]"
   ]
  },
  {
   "cell_type": "markdown",
   "id": "77ac2c2f",
   "metadata": {},
   "source": [
    "On procède à une normalisation"
   ]
  },
  {
   "cell_type": "code",
   "execution_count": 10,
   "id": "b4109e3e",
   "metadata": {},
   "outputs": [
    {
     "name": "stdout",
     "output_type": "stream",
     "text": [
      "Dataset generated.\n",
      "Train shape is :  (2473,)\n",
      "Test  shape is :  (619,)\n",
      "Train shape is :  (2473, 1)\n",
      "Test  shape is :  (619, 1)\n"
     ]
    }
   ],
   "source": [
    "mean = x_train.mean()\n",
    "std  = x_train.std()\n",
    "x_train = (x_train - mean) / std\n",
    "x_test  = (x_test  - mean) / std\n",
    "\n",
    "print(\"Dataset generated.\")\n",
    "print(\"Train shape is : \", x_train.shape)\n",
    "print(\"Test  shape is : \", x_test.shape)\n",
    "\n",
    "x_train = x_train.reshape(-1,1)\n",
    "x_test = x_test.reshape(-1,1)\n",
    "print(\"Train shape is : \", x_train.shape)\n",
    "print(\"Test  shape is : \", x_test.shape)"
   ]
  },
  {
   "cell_type": "markdown",
   "id": "d491d5b8",
   "metadata": {},
   "source": [
    "## Génération de données"
   ]
  },
  {
   "cell_type": "code",
   "execution_count": 11,
   "id": "fe55f94e",
   "metadata": {},
   "outputs": [],
   "source": [
    "train_generator = TimeseriesGenerator(x_train,x_train ,length=sequence_len,  batch_size=batch_size)\n",
    "test_generator  = TimeseriesGenerator(x_test,x_test , length=sequence_len,  batch_size=batch_size)"
   ]
  },
  {
   "cell_type": "code",
   "execution_count": 12,
   "id": "997eb19b",
   "metadata": {},
   "outputs": [
    {
     "name": "stdout",
     "output_type": "stream",
     "text": [
      "Number of batch trains available :  77\n",
      "batch x shape :  (32, 20, 1)\n",
      "batch y shape :  (32, 1)\n"
     ]
    }
   ],
   "source": [
    "x,y=train_generator[70]\n",
    "print(f'Number of batch trains available : ', len(train_generator))\n",
    "print('batch x shape : ',x.shape)\n",
    "print('batch y shape : ',y.shape)"
   ]
  },
  {
   "cell_type": "markdown",
   "id": "88247d33",
   "metadata": {},
   "source": [
    "## Création du model"
   ]
  },
  {
   "cell_type": "code",
   "execution_count": 13,
   "id": "f74e4bd7",
   "metadata": {},
   "outputs": [
    {
     "name": "stdout",
     "output_type": "stream",
     "text": [
      "Epoch 1/20\n",
      "77/77 [==============================] - 3s 11ms/step - loss: 0.5023 - mae: 0.4687 - val_loss: 0.0063 - val_mae: 0.0575\n",
      "INFO:tensorflow:Assets written to: C:\\Users\\Utilisateur\\assets\n",
      "Epoch 2/20\n",
      "77/77 [==============================] - 1s 8ms/step - loss: 0.0562 - mae: 0.1599 - val_loss: 0.0046 - val_mae: 0.0487\n",
      "INFO:tensorflow:Assets written to: C:\\Users\\Utilisateur\\assets\n",
      "Epoch 3/20\n",
      "77/77 [==============================] - 1s 7ms/step - loss: 0.0382 - mae: 0.1368 - val_loss: 0.0059 - val_mae: 0.0552\n",
      "Epoch 4/20\n",
      "77/77 [==============================] - 1s 7ms/step - loss: 0.0386 - mae: 0.1333 - val_loss: 0.0044 - val_mae: 0.0469\n",
      "INFO:tensorflow:Assets written to: C:\\Users\\Utilisateur\\assets\n",
      "Epoch 5/20\n",
      "77/77 [==============================] - 1s 7ms/step - loss: 0.0364 - mae: 0.1275 - val_loss: 0.0037 - val_mae: 0.0438\n",
      "INFO:tensorflow:Assets written to: C:\\Users\\Utilisateur\\assets\n",
      "Epoch 6/20\n",
      "77/77 [==============================] - 1s 7ms/step - loss: 0.0358 - mae: 0.1250 - val_loss: 0.0042 - val_mae: 0.0492\n",
      "Epoch 7/20\n",
      "77/77 [==============================] - 1s 7ms/step - loss: 0.0338 - mae: 0.1212 - val_loss: 0.0031 - val_mae: 0.0393\n",
      "INFO:tensorflow:Assets written to: C:\\Users\\Utilisateur\\assets\n",
      "Epoch 8/20\n",
      "77/77 [==============================] - 1s 7ms/step - loss: 0.0342 - mae: 0.1225 - val_loss: 0.0029 - val_mae: 0.0391\n",
      "INFO:tensorflow:Assets written to: C:\\Users\\Utilisateur\\assets\n",
      "Epoch 9/20\n",
      "77/77 [==============================] - 1s 7ms/step - loss: 0.0307 - mae: 0.1185 - val_loss: 0.0042 - val_mae: 0.0507\n",
      "Epoch 10/20\n",
      "77/77 [==============================] - 1s 7ms/step - loss: 0.0303 - mae: 0.1172 - val_loss: 0.0029 - val_mae: 0.0399\n",
      "INFO:tensorflow:Assets written to: C:\\Users\\Utilisateur\\assets\n",
      "Epoch 11/20\n",
      "77/77 [==============================] - 1s 7ms/step - loss: 0.0294 - mae: 0.1157 - val_loss: 0.0030 - val_mae: 0.0395\n",
      "Epoch 12/20\n",
      "77/77 [==============================] - 1s 7ms/step - loss: 0.0266 - mae: 0.1105 - val_loss: 0.0040 - val_mae: 0.0467\n",
      "Epoch 13/20\n",
      "77/77 [==============================] - 1s 7ms/step - loss: 0.0320 - mae: 0.1178 - val_loss: 0.0027 - val_mae: 0.0378\n",
      "INFO:tensorflow:Assets written to: C:\\Users\\Utilisateur\\assets\n",
      "Epoch 14/20\n",
      "77/77 [==============================] - 1s 7ms/step - loss: 0.0302 - mae: 0.1165 - val_loss: 0.0029 - val_mae: 0.0397\n",
      "Epoch 15/20\n",
      "77/77 [==============================] - 1s 7ms/step - loss: 0.0306 - mae: 0.1156 - val_loss: 0.0088 - val_mae: 0.0766\n",
      "Epoch 16/20\n",
      "77/77 [==============================] - 1s 7ms/step - loss: 0.0296 - mae: 0.1168 - val_loss: 0.0026 - val_mae: 0.0383\n",
      "INFO:tensorflow:Assets written to: C:\\Users\\Utilisateur\\assets\n",
      "Epoch 17/20\n",
      "77/77 [==============================] - 1s 7ms/step - loss: 0.0286 - mae: 0.1141 - val_loss: 0.0025 - val_mae: 0.0365\n",
      "INFO:tensorflow:Assets written to: C:\\Users\\Utilisateur\\assets\n",
      "Epoch 18/20\n",
      "77/77 [==============================] - 1s 7ms/step - loss: 0.0286 - mae: 0.1132 - val_loss: 0.0029 - val_mae: 0.0397\n",
      "Epoch 19/20\n",
      "77/77 [==============================] - 1s 7ms/step - loss: 0.0247 - mae: 0.1081 - val_loss: 0.0026 - val_mae: 0.0385\n",
      "Epoch 20/20\n",
      "77/77 [==============================] - 1s 7ms/step - loss: 0.0273 - mae: 0.1125 - val_loss: 0.0023 - val_mae: 0.0349\n",
      "INFO:tensorflow:Assets written to: C:\\Users\\Utilisateur\\assets\n"
     ]
    }
   ],
   "source": [
    "model = keras.models.Sequential()\n",
    "\n",
    "\n",
    "model.add(keras.layers.GRU(64, return_sequences=False,input_shape=(sequence_len,1),activation='relu') )\n",
    "model.add(Dropout(0.3))\n",
    "\n",
    "model.add(keras.layers.Dense(1))\n",
    "\n",
    "model.compile(optimizer='rmsprop', \n",
    "              loss='mse', \n",
    "              metrics   = ['mae'] )\n",
    "\n",
    "bestmodel_callback = tf.keras.callbacks.ModelCheckpoint(filepath=path, verbose=0, save_best_only=True)\n",
    "\n",
    "training_history=model.fit(train_generator,\n",
    "                  epochs  = epok, \n",
    "                  validation_data = test_generator,\n",
    "                          callbacks = [bestmodel_callback])"
   ]
  },
  {
   "cell_type": "code",
   "execution_count": 14,
   "id": "b7949279",
   "metadata": {},
   "outputs": [
    {
     "data": {
      "image/png": "[encoded data removed]",
      "text/plain": [
       "<Figure size 432x288 with 1 Axes>"
      ]
     },
     "metadata": {
      "needs_background": "light"
     },
     "output_type": "display_data"
    }
   ],
   "source": [
    "train_acc = training_history.history['mae']\n",
    "val_acc = training_history.history['val_mae']\n",
    "\n",
    "plt.xlabel('Epochs')\n",
    "plt.ylabel('Mae')\n",
    "\n",
    "plt.plot(np.arange(1,epok +1,1),training_history.history['mae'], label='Training mae', color='blue')\n",
    "plt.plot(np.arange(1,epok +1,1),training_history.history['val_mae'], label='Validation mae', color='red')\n",
    "\n",
    "plt.legend()\n",
    "\n",
    "plt.show()"
   ]
  },
  {
   "cell_type": "code",
   "execution_count": 15,
   "id": "5cf089bd",
   "metadata": {},
   "outputs": [],
   "source": [
    "loaded_model =  tf.keras.models.load_model(cwd)"
   ]
  },
  {
   "cell_type": "code",
   "execution_count": 16,
   "id": "ab2b6994",
   "metadata": {},
   "outputs": [
    {
     "name": "stdout",
     "output_type": "stream",
     "text": [
      "19/19 [==============================] - 0s 3ms/step - loss: 0.0023 - mae: 0.0349\n"
     ]
    }
   ],
   "source": [
    "loss,mae =loaded_model.evaluate(test_generator)"
   ]
  },
  {
   "cell_type": "markdown",
   "id": "08eebadc",
   "metadata": {},
   "source": [
    "##  Prédire et visualiser"
   ]
  },
  {
   "cell_type": "code",
   "execution_count": 17,
   "id": "25b6b393",
   "metadata": {},
   "outputs": [
    {
     "data": {
      "image/png": "[encoded data removed]",
      "text/plain": [
       "<Figure size 432x288 with 1 Axes>"
      ]
     },
     "metadata": {
      "needs_background": "light"
     },
     "output_type": "display_data"
    }
   ],
   "source": [
    "# On sélectionne une séquence au hasard du jeu de test\n",
    "s=random.randint(0,len(x_test)-sequence_len)\n",
    "sequence      = x_test[s:s+sequence_len]\n",
    "\n",
    "# On définit la séquence réelle à observer\n",
    "sequence_true = x_test[s:s+sequence_len+1]\n",
    "\n",
    "# On prédit la valeur suivante de sequence\n",
    "prediction = model.predict( np.array([sequence]))\n",
    "\n",
    "# On affiche\n",
    "plt.plot(np.concatenate([sequence,prediction]),label = 'Predit')\n",
    "plt.plot(sequence_true,label = 'Vrai')\n",
    "\n",
    "plt.legend()\n",
    "plt.show()\n"
   ]
  },
  {
   "cell_type": "code",
   "execution_count": 18,
   "id": "4e1d7221",
   "metadata": {},
   "outputs": [
    {
     "name": "stdout",
     "output_type": "stream",
     "text": [
      "WARNING:tensorflow:Model was constructed with shape (None, 20, 1) for input KerasTensor(type_spec=TensorSpec(shape=(None, 20, 1), dtype=tf.float32, name='gru_input'), name='gru_input', description=\"created by layer 'gru_input'\"), but it was called on an input with incompatible shape (None, 19, 1).\n"
     ]
    },
    {
     "data": {
      "image/png": "[encoded data removed]",
      "text/plain": [
       "<Figure size 432x288 with 1 Axes>"
      ]
     },
     "metadata": {
      "needs_background": "light"
     },
     "output_type": "display_data"
    }
   ],
   "source": [
    "# On sélectionne la dernière séquence\n",
    "sequence = x_test[-sequence_len:-1]\n",
    "\n",
    "# On définit la séquence réelle à observer\n",
    "sequence_true = x_test[-sequence_len:]\n",
    "\n",
    "# On prédit la valeur suivante de sequence\n",
    "prediction = model.predict( np.array([sequence]))\n",
    "\n",
    "# On affiche\n",
    "plt.plot(np.concatenate([sequence,prediction]),label = 'Predit')\n",
    "plt.plot(sequence_true,label = 'Vrai')\n",
    "\n",
    "plt.legend()\n",
    "plt.show()"
   ]
  },
  {
   "cell_type": "code",
   "execution_count": 20,
   "id": "d3cc3172",
   "metadata": {},
   "outputs": [],
   "source": [
    "Predicat =[]\n",
    "step = 4\n",
    "iteration = list(reversed([i for i in range(step)]))\n",
    "\n",
    "for i in iteration:\n",
    "    sequence = x_test[-sequence_len-i:-i-1]\n",
    "   \n",
    "    prediction = model.predict( np.array([sequence]))\n",
    "    Predicat.append(prediction)"
   ]
  },
  {
   "cell_type": "code",
   "execution_count": 21,
   "id": "cc876b88",
   "metadata": {},
   "outputs": [],
   "source": [
    "vue = np.concatenate([Predicat[0],Predicat[1],Predicat[2],Predicat[3]])"
   ]
  },
  {
   "cell_type": "code",
   "execution_count": 22,
   "id": "1fb01ab0",
   "metadata": {},
   "outputs": [
    {
     "data": {
      "image/png": "[encoded data removed]",
      "text/plain": [
       "<Figure size 432x288 with 1 Axes>"
      ]
     },
     "metadata": {
      "needs_background": "light"
     },
     "output_type": "display_data"
    }
   ],
   "source": [
    "plt.plot(np.concatenate([x_test[-sequence_len:-step],vue]),label = 'Prédit')\n",
    "plt.plot(x_test[-sequence_len:],label = 'vrai')\n",
    "\n",
    "plt.legend()\n",
    "\n",
    "plt.show()"
   ]
  },
  {
   "cell_type": "markdown",
   "id": "53e6dd2b",
   "metadata": {},
   "source": [
    "## Généraliser"
   ]
  },
  {
   "cell_type": "markdown",
   "id": "67aec885",
   "metadata": {},
   "source": [
    "On applique la démarche pour chaque cours et on stocke les valeurs dans une dataframe"
   ]
  },
  {
   "cell_type": "code",
   "execution_count": null,
   "id": "16573713",
   "metadata": {},
   "outputs": [],
   "source": [
    "fit_verbosity = 0\n",
    "scores = {}\n",
    "\n",
    "def evalue(x):\n",
    "\n",
    "\n",
    "    DF = df[df['Symbol']==x]\n",
    "    dataset = np.array(DF.Close)\n",
    "    k = int(len(dataset)*train_prop)\n",
    "    x_train = dataset[:k]\n",
    "    x_test  = dataset[k:]\n",
    "    mean = x_train.mean()\n",
    "    std  = x_train.std()\n",
    "    x_train = (x_train - mean) / std\n",
    "    x_test  = (x_test  - mean) / std\n",
    "    x_train = x_train.reshape(-1,1)\n",
    "    x_test = x_test.reshape(-1,1)\n",
    "    train_generator = TimeseriesGenerator(x_train,x_train ,length=sequence_len,  batch_size=batch_size)\n",
    "    test_generator  = TimeseriesGenerator(x_test,x_test , length=sequence_len,  batch_size=batch_size)\n",
    "    \n",
    "    model = keras.models.Sequential()\n",
    "    \n",
    "    model.add(keras.layers.GRU(64, return_sequences=False,input_shape=(sequence_len,1),activation='relu') )\n",
    "    model.add(Dropout(0.3))\n",
    "    \n",
    "\n",
    "    \n",
    "    model.add(keras.layers.Dense(1))\n",
    "    model.compile(optimizer='rmsprop', \n",
    "              loss='mse', \n",
    "              metrics   = ['mae'] )\n",
    "    bestmodel_callback = tf.keras.callbacks.ModelCheckpoint(filepath=path, verbose=0, save_best_only=True)\n",
    "\n",
    "    training_history=model.fit(train_generator,\n",
    "                  epochs  = epok, \n",
    "                  validation_data = test_generator,\n",
    "                          callbacks = [bestmodel_callback])\n",
    "    \n",
    "    loaded_model =  tf.keras.models.load_model(cwd)\n",
    "\n",
    "\n",
    "\n",
    "\n",
    "    loss,mae =loaded_model.evaluate(test_generator)\n",
    "    return mae\n"
   ]
  },
  {
   "cell_type": "code",
   "execution_count": null,
   "id": "f9f73050",
   "metadata": {},
   "outputs": [],
   "source": [
    "visu = visu.reset_index().rename(columns={'index':'titre'})\n",
    "extrait = visu[visu['Longueur']==3092]"
   ]
  },
  {
   "cell_type": "code",
   "execution_count": null,
   "id": "89a2b3d4",
   "metadata": {},
   "outputs": [],
   "source": [
    "MMM = evalue('MMM')"
   ]
  },
  {
   "cell_type": "code",
   "execution_count": null,
   "id": "fb5e3b3d",
   "metadata": {},
   "outputs": [],
   "source": [
    "MMM"
   ]
  },
  {
   "cell_type": "code",
   "execution_count": null,
   "id": "5839baac",
   "metadata": {},
   "outputs": [],
   "source": [
    "extrait"
   ]
  },
  {
   "cell_type": "code",
   "execution_count": null,
   "id": "6fdb0b9c",
   "metadata": {},
   "outputs": [],
   "source": [
    "extrait['score']=extrait.titre.swifter.apply(lambda x: evalue(x))"
   ]
  },
  {
   "cell_type": "code",
   "execution_count": null,
   "id": "ab8d67d7",
   "metadata": {},
   "outputs": [],
   "source": [
    "np.save('extrait_RNN',extrait)"
   ]
  }
 ],
 "metadata": {
  "kernelspec": {
   "display_name": "Python 3",
   "language": "python",
   "name": "python3"
  },
  "language_info": {
   "codemirror_mode": {
    "name": "ipython",
    "version": 3
   },
   "file_extension": ".py",
   "mimetype": "text/x-python",
   "name": "python",
   "nbconvert_exporter": "python",
   "pygments_lexer": "ipython3",
   "version": "3.8.8"
  }
 },
 "nbformat": 4,
 "nbformat_minor": 5
}
