{
 "cells": [
  {
   "cell_type": "markdown",
   "id": "3c27e40e",
   "metadata": {},
   "source": [
    "# Entrainement - Set vins"
   ]
  },
  {
   "cell_type": "markdown",
   "id": "89a1c674",
   "metadata": {},
   "source": [
    "## Abstract"
   ]
  },
  {
   "cell_type": "markdown",
   "id": "0dfd6235",
   "metadata": {},
   "source": [
    "L'analyse conduite sur les outliers et la suppression des colonnes idoines d'une part et la définition d'une nouvelle variable par clustering d'autre part permet de maximiser le score d'algortihme de ML et DL"
   ]
  },
  {
   "cell_type": "markdown",
   "id": "be10c038",
   "metadata": {},
   "source": [
    "## Bibliothèques utilisées"
   ]
  },
  {
   "cell_type": "code",
   "execution_count": 1,
   "id": "5fe59dcf",
   "metadata": {},
   "outputs": [],
   "source": [
    "#Generique\n",
    "import pandas as pd\n",
    "import numpy as np\n",
    "import matplotlib.pyplot as plt\n",
    "import seaborn as sns\n",
    "\n",
    "# reduction dimension\n",
    "from sklearn.feature_selection import VarianceThreshold,RFE,RFECV,SelectKBest,f_regression\n",
    "\n",
    "# ML\n",
    "from sklearn import preprocessing\n",
    "from sklearn.model_selection import train_test_split\n",
    "from sklearn.linear_model import LogisticRegression\n",
    "from sklearn import neighbors\n",
    "from sklearn.metrics import accuracy_score\n",
    "from sklearn.tree import DecisionTreeClassifier\n",
    "from sklearn import tree\n",
    "from sklearn.model_selection import GridSearchCV\n",
    "from scipy.cluster.hierarchy  import dendrogram, linkage\n",
    "from sklearn.cluster import AgglomerativeClustering\n",
    "from sklearn.metrics import silhouette_score\n",
    "\n",
    "# DL\n",
    "from tensorflow.keras import Sequential\n",
    "from tensorflow.keras.layers import Dense,Dropout\n",
    "import tensorflow as tf\n",
    "\n",
    "import warnings\n",
    "warnings.filterwarnings(\"ignore\")"
   ]
  },
  {
   "cell_type": "markdown",
   "id": "97e1b7b7",
   "metadata": {},
   "source": [
    "### Instanciation données"
   ]
  },
  {
   "cell_type": "code",
   "execution_count": 2,
   "id": "a1ff51f8",
   "metadata": {},
   "outputs": [],
   "source": [
    "df = pd.read_csv('WineQT.csv')"
   ]
  },
  {
   "cell_type": "markdown",
   "id": "e1297a0e",
   "metadata": {},
   "source": [
    "### Revue de base:\n",
    "- Revue sur variables\n",
    "- Revue des doublons\n",
    "- Visibilité NAN\n"
   ]
  },
  {
   "cell_type": "markdown",
   "id": "dedffb2d",
   "metadata": {},
   "source": [
    "Une vue d'ensemble des données"
   ]
  },
  {
   "cell_type": "code",
   "execution_count": 3,
   "id": "bb0a772d",
   "metadata": {},
   "outputs": [
    {
     "data": {
      "text/html": [
       "<div>\n",
       "<style scoped>\n",
       "    .dataframe tbody tr th:only-of-type {\n",
       "        vertical-align: middle;\n",
       "    }\n",
       "\n",
       "    .dataframe tbody tr th {\n",
       "        vertical-align: top;\n",
       "    }\n",
       "\n",
       "    .dataframe thead th {\n",
       "        text-align: right;\n",
       "    }\n",
       "</style>\n",
       "<table border=\"1\" class=\"dataframe\">\n",
       "  <thead>\n",
       "    <tr style=\"text-align: right;\">\n",
       "      <th></th>\n",
       "      <th>fixed acidity</th>\n",
       "      <th>volatile acidity</th>\n",
       "      <th>citric acid</th>\n",
       "      <th>residual sugar</th>\n",
       "      <th>chlorides</th>\n",
       "      <th>free sulfur dioxide</th>\n",
       "      <th>total sulfur dioxide</th>\n",
       "      <th>density</th>\n",
       "      <th>pH</th>\n",
       "      <th>sulphates</th>\n",
       "      <th>alcohol</th>\n",
       "      <th>quality</th>\n",
       "      <th>Id</th>\n",
       "    </tr>\n",
       "  </thead>\n",
       "  <tbody>\n",
       "    <tr>\n",
       "      <th>0</th>\n",
       "      <td>7.4</td>\n",
       "      <td>0.700</td>\n",
       "      <td>0.00</td>\n",
       "      <td>1.9</td>\n",
       "      <td>0.076</td>\n",
       "      <td>11.0</td>\n",
       "      <td>34.0</td>\n",
       "      <td>0.99780</td>\n",
       "      <td>3.51</td>\n",
       "      <td>0.56</td>\n",
       "      <td>9.4</td>\n",
       "      <td>5</td>\n",
       "      <td>0</td>\n",
       "    </tr>\n",
       "    <tr>\n",
       "      <th>1</th>\n",
       "      <td>7.8</td>\n",
       "      <td>0.880</td>\n",
       "      <td>0.00</td>\n",
       "      <td>2.6</td>\n",
       "      <td>0.098</td>\n",
       "      <td>25.0</td>\n",
       "      <td>67.0</td>\n",
       "      <td>0.99680</td>\n",
       "      <td>3.20</td>\n",
       "      <td>0.68</td>\n",
       "      <td>9.8</td>\n",
       "      <td>5</td>\n",
       "      <td>1</td>\n",
       "    </tr>\n",
       "    <tr>\n",
       "      <th>2</th>\n",
       "      <td>7.8</td>\n",
       "      <td>0.760</td>\n",
       "      <td>0.04</td>\n",
       "      <td>2.3</td>\n",
       "      <td>0.092</td>\n",
       "      <td>15.0</td>\n",
       "      <td>54.0</td>\n",
       "      <td>0.99700</td>\n",
       "      <td>3.26</td>\n",
       "      <td>0.65</td>\n",
       "      <td>9.8</td>\n",
       "      <td>5</td>\n",
       "      <td>2</td>\n",
       "    </tr>\n",
       "    <tr>\n",
       "      <th>3</th>\n",
       "      <td>11.2</td>\n",
       "      <td>0.280</td>\n",
       "      <td>0.56</td>\n",
       "      <td>1.9</td>\n",
       "      <td>0.075</td>\n",
       "      <td>17.0</td>\n",
       "      <td>60.0</td>\n",
       "      <td>0.99800</td>\n",
       "      <td>3.16</td>\n",
       "      <td>0.58</td>\n",
       "      <td>9.8</td>\n",
       "      <td>6</td>\n",
       "      <td>3</td>\n",
       "    </tr>\n",
       "    <tr>\n",
       "      <th>4</th>\n",
       "      <td>7.4</td>\n",
       "      <td>0.700</td>\n",
       "      <td>0.00</td>\n",
       "      <td>1.9</td>\n",
       "      <td>0.076</td>\n",
       "      <td>11.0</td>\n",
       "      <td>34.0</td>\n",
       "      <td>0.99780</td>\n",
       "      <td>3.51</td>\n",
       "      <td>0.56</td>\n",
       "      <td>9.4</td>\n",
       "      <td>5</td>\n",
       "      <td>4</td>\n",
       "    </tr>\n",
       "    <tr>\n",
       "      <th>...</th>\n",
       "      <td>...</td>\n",
       "      <td>...</td>\n",
       "      <td>...</td>\n",
       "      <td>...</td>\n",
       "      <td>...</td>\n",
       "      <td>...</td>\n",
       "      <td>...</td>\n",
       "      <td>...</td>\n",
       "      <td>...</td>\n",
       "      <td>...</td>\n",
       "      <td>...</td>\n",
       "      <td>...</td>\n",
       "      <td>...</td>\n",
       "    </tr>\n",
       "    <tr>\n",
       "      <th>1138</th>\n",
       "      <td>6.3</td>\n",
       "      <td>0.510</td>\n",
       "      <td>0.13</td>\n",
       "      <td>2.3</td>\n",
       "      <td>0.076</td>\n",
       "      <td>29.0</td>\n",
       "      <td>40.0</td>\n",
       "      <td>0.99574</td>\n",
       "      <td>3.42</td>\n",
       "      <td>0.75</td>\n",
       "      <td>11.0</td>\n",
       "      <td>6</td>\n",
       "      <td>1592</td>\n",
       "    </tr>\n",
       "    <tr>\n",
       "      <th>1139</th>\n",
       "      <td>6.8</td>\n",
       "      <td>0.620</td>\n",
       "      <td>0.08</td>\n",
       "      <td>1.9</td>\n",
       "      <td>0.068</td>\n",
       "      <td>28.0</td>\n",
       "      <td>38.0</td>\n",
       "      <td>0.99651</td>\n",
       "      <td>3.42</td>\n",
       "      <td>0.82</td>\n",
       "      <td>9.5</td>\n",
       "      <td>6</td>\n",
       "      <td>1593</td>\n",
       "    </tr>\n",
       "    <tr>\n",
       "      <th>1140</th>\n",
       "      <td>6.2</td>\n",
       "      <td>0.600</td>\n",
       "      <td>0.08</td>\n",
       "      <td>2.0</td>\n",
       "      <td>0.090</td>\n",
       "      <td>32.0</td>\n",
       "      <td>44.0</td>\n",
       "      <td>0.99490</td>\n",
       "      <td>3.45</td>\n",
       "      <td>0.58</td>\n",
       "      <td>10.5</td>\n",
       "      <td>5</td>\n",
       "      <td>1594</td>\n",
       "    </tr>\n",
       "    <tr>\n",
       "      <th>1141</th>\n",
       "      <td>5.9</td>\n",
       "      <td>0.550</td>\n",
       "      <td>0.10</td>\n",
       "      <td>2.2</td>\n",
       "      <td>0.062</td>\n",
       "      <td>39.0</td>\n",
       "      <td>51.0</td>\n",
       "      <td>0.99512</td>\n",
       "      <td>3.52</td>\n",
       "      <td>0.76</td>\n",
       "      <td>11.2</td>\n",
       "      <td>6</td>\n",
       "      <td>1595</td>\n",
       "    </tr>\n",
       "    <tr>\n",
       "      <th>1142</th>\n",
       "      <td>5.9</td>\n",
       "      <td>0.645</td>\n",
       "      <td>0.12</td>\n",
       "      <td>2.0</td>\n",
       "      <td>0.075</td>\n",
       "      <td>32.0</td>\n",
       "      <td>44.0</td>\n",
       "      <td>0.99547</td>\n",
       "      <td>3.57</td>\n",
       "      <td>0.71</td>\n",
       "      <td>10.2</td>\n",
       "      <td>5</td>\n",
       "      <td>1597</td>\n",
       "    </tr>\n",
       "  </tbody>\n",
       "</table>\n",
       "<p>1143 rows × 13 columns</p>\n",
       "</div>"
      ],
      "text/plain": [
       "      fixed acidity  volatile acidity  citric acid  residual sugar  chlorides  \\\n",
       "0               7.4             0.700         0.00             1.9      0.076   \n",
       "1               7.8             0.880         0.00             2.6      0.098   \n",
       "2               7.8             0.760         0.04             2.3      0.092   \n",
       "3              11.2             0.280         0.56             1.9      0.075   \n",
       "4               7.4             0.700         0.00             1.9      0.076   \n",
       "...             ...               ...          ...             ...        ...   \n",
       "1138            6.3             0.510         0.13             2.3      0.076   \n",
       "1139            6.8             0.620         0.08             1.9      0.068   \n",
       "1140            6.2             0.600         0.08             2.0      0.090   \n",
       "1141            5.9             0.550         0.10             2.2      0.062   \n",
       "1142            5.9             0.645         0.12             2.0      0.075   \n",
       "\n",
       "      free sulfur dioxide  total sulfur dioxide  density    pH  sulphates  \\\n",
       "0                    11.0                  34.0  0.99780  3.51       0.56   \n",
       "1                    25.0                  67.0  0.99680  3.20       0.68   \n",
       "2                    15.0                  54.0  0.99700  3.26       0.65   \n",
       "3                    17.0                  60.0  0.99800  3.16       0.58   \n",
       "4                    11.0                  34.0  0.99780  3.51       0.56   \n",
       "...                   ...                   ...      ...   ...        ...   \n",
       "1138                 29.0                  40.0  0.99574  3.42       0.75   \n",
       "1139                 28.0                  38.0  0.99651  3.42       0.82   \n",
       "1140                 32.0                  44.0  0.99490  3.45       0.58   \n",
       "1141                 39.0                  51.0  0.99512  3.52       0.76   \n",
       "1142                 32.0                  44.0  0.99547  3.57       0.71   \n",
       "\n",
       "      alcohol  quality    Id  \n",
       "0         9.4        5     0  \n",
       "1         9.8        5     1  \n",
       "2         9.8        5     2  \n",
       "3         9.8        6     3  \n",
       "4         9.4        5     4  \n",
       "...       ...      ...   ...  \n",
       "1138     11.0        6  1592  \n",
       "1139      9.5        6  1593  \n",
       "1140     10.5        5  1594  \n",
       "1141     11.2        6  1595  \n",
       "1142     10.2        5  1597  \n",
       "\n",
       "[1143 rows x 13 columns]"
      ]
     },
     "execution_count": 3,
     "metadata": {},
     "output_type": "execute_result"
    }
   ],
   "source": [
    "df"
   ]
  },
  {
   "cell_type": "code",
   "execution_count": 4,
   "id": "b48c4237",
   "metadata": {},
   "outputs": [
    {
     "name": "stdout",
     "output_type": "stream",
     "text": [
      "<class 'pandas.core.frame.DataFrame'>\n",
      "RangeIndex: 1143 entries, 0 to 1142\n",
      "Data columns (total 13 columns):\n",
      " #   Column                Non-Null Count  Dtype  \n",
      "---  ------                --------------  -----  \n",
      " 0   fixed acidity         1143 non-null   float64\n",
      " 1   volatile acidity      1143 non-null   float64\n",
      " 2   citric acid           1143 non-null   float64\n",
      " 3   residual sugar        1143 non-null   float64\n",
      " 4   chlorides             1143 non-null   float64\n",
      " 5   free sulfur dioxide   1143 non-null   float64\n",
      " 6   total sulfur dioxide  1143 non-null   float64\n",
      " 7   density               1143 non-null   float64\n",
      " 8   pH                    1143 non-null   float64\n",
      " 9   sulphates             1143 non-null   float64\n",
      " 10  alcohol               1143 non-null   float64\n",
      " 11  quality               1143 non-null   int64  \n",
      " 12  Id                    1143 non-null   int64  \n",
      "dtypes: float64(11), int64(2)\n",
      "memory usage: 116.2 KB\n"
     ]
    }
   ],
   "source": [
    "df.info()"
   ]
  },
  {
   "cell_type": "markdown",
   "id": "4dc65c4f",
   "metadata": {},
   "source": [
    "Que représente la variable Id ?"
   ]
  },
  {
   "cell_type": "code",
   "execution_count": 5,
   "id": "9709aced",
   "metadata": {},
   "outputs": [
    {
     "data": {
      "text/plain": [
       "0       1\n",
       "1079    1\n",
       "1087    1\n",
       "1086    1\n",
       "1085    1\n",
       "       ..\n",
       "543     1\n",
       "544     1\n",
       "545     1\n",
       "546     1\n",
       "1597    1\n",
       "Name: Id, Length: 1143, dtype: int64"
      ]
     },
     "execution_count": 5,
     "metadata": {},
     "output_type": "execute_result"
    }
   ],
   "source": [
    "df.Id.value_counts()"
   ]
  },
  {
   "cell_type": "markdown",
   "id": "c53adb62",
   "metadata": {},
   "source": [
    "Il y a autant d'ID que d'entrée -> Il apparait ainsi que cette variable  n'apporte pas d'info pertinente sur le jeu de donnée, il convient de la supprimer"
   ]
  },
  {
   "cell_type": "code",
   "execution_count": 6,
   "id": "61cc3f0a",
   "metadata": {},
   "outputs": [],
   "source": [
    "df = df.drop(['Id'],axis = 1)"
   ]
  },
  {
   "cell_type": "markdown",
   "id": "bcda244e",
   "metadata": {},
   "source": [
    "A ce stade, il ne parait pas opportun de supprimer davantage de variable"
   ]
  },
  {
   "cell_type": "markdown",
   "id": "d4bfe5d0",
   "metadata": {},
   "source": [
    "Présence de doublons ?"
   ]
  },
  {
   "cell_type": "code",
   "execution_count": 7,
   "id": "1c4dd4ef",
   "metadata": {},
   "outputs": [
    {
     "data": {
      "text/plain": [
       "125"
      ]
     },
     "execution_count": 7,
     "metadata": {},
     "output_type": "execute_result"
    }
   ],
   "source": [
    "df.duplicated().sum()"
   ]
  },
  {
   "cell_type": "markdown",
   "id": "47bc643d",
   "metadata": {},
   "source": [
    "Note : il est intéressant de constater qu'il ya présence de doublons et que l'on vient de supprimer une variable pour laquelle chaque entrée présente une valeur distincte. Ainsi, si nous avions pratiqué l'analyse des doublons en amont, nous serions passé à côté de cette info dans la mesure où aucun doublon n'aurait été détecté."
   ]
  },
  {
   "cell_type": "markdown",
   "id": "0573d65c",
   "metadata": {},
   "source": [
    "On procède à l'élimination des doublons et l'on confirme"
   ]
  },
  {
   "cell_type": "code",
   "execution_count": 8,
   "id": "217779b5",
   "metadata": {},
   "outputs": [],
   "source": [
    "df = df.drop_duplicates()"
   ]
  },
  {
   "cell_type": "code",
   "execution_count": 9,
   "id": "c9191537",
   "metadata": {},
   "outputs": [
    {
     "data": {
      "text/plain": [
       "0"
      ]
     },
     "execution_count": 9,
     "metadata": {},
     "output_type": "execute_result"
    }
   ],
   "source": [
    "df.duplicated().sum()"
   ]
  },
  {
   "cell_type": "markdown",
   "id": "724306bc",
   "metadata": {},
   "source": [
    "Présence de NaN ?"
   ]
  },
  {
   "cell_type": "code",
   "execution_count": 10,
   "id": "75767ae1",
   "metadata": {},
   "outputs": [
    {
     "data": {
      "text/html": [
       "<div>\n",
       "<style scoped>\n",
       "    .dataframe tbody tr th:only-of-type {\n",
       "        vertical-align: middle;\n",
       "    }\n",
       "\n",
       "    .dataframe tbody tr th {\n",
       "        vertical-align: top;\n",
       "    }\n",
       "\n",
       "    .dataframe thead th {\n",
       "        text-align: right;\n",
       "    }\n",
       "</style>\n",
       "<table border=\"1\" class=\"dataframe\">\n",
       "  <thead>\n",
       "    <tr style=\"text-align: right;\">\n",
       "      <th></th>\n",
       "      <th>Count</th>\n",
       "    </tr>\n",
       "  </thead>\n",
       "  <tbody>\n",
       "    <tr>\n",
       "      <th>fixed acidity</th>\n",
       "      <td>0</td>\n",
       "    </tr>\n",
       "    <tr>\n",
       "      <th>volatile acidity</th>\n",
       "      <td>0</td>\n",
       "    </tr>\n",
       "    <tr>\n",
       "      <th>citric acid</th>\n",
       "      <td>0</td>\n",
       "    </tr>\n",
       "    <tr>\n",
       "      <th>residual sugar</th>\n",
       "      <td>0</td>\n",
       "    </tr>\n",
       "    <tr>\n",
       "      <th>chlorides</th>\n",
       "      <td>0</td>\n",
       "    </tr>\n",
       "    <tr>\n",
       "      <th>free sulfur dioxide</th>\n",
       "      <td>0</td>\n",
       "    </tr>\n",
       "    <tr>\n",
       "      <th>total sulfur dioxide</th>\n",
       "      <td>0</td>\n",
       "    </tr>\n",
       "    <tr>\n",
       "      <th>density</th>\n",
       "      <td>0</td>\n",
       "    </tr>\n",
       "    <tr>\n",
       "      <th>pH</th>\n",
       "      <td>0</td>\n",
       "    </tr>\n",
       "    <tr>\n",
       "      <th>sulphates</th>\n",
       "      <td>0</td>\n",
       "    </tr>\n",
       "    <tr>\n",
       "      <th>alcohol</th>\n",
       "      <td>0</td>\n",
       "    </tr>\n",
       "    <tr>\n",
       "      <th>quality</th>\n",
       "      <td>0</td>\n",
       "    </tr>\n",
       "  </tbody>\n",
       "</table>\n",
       "</div>"
      ],
      "text/plain": [
       "                      Count\n",
       "fixed acidity             0\n",
       "volatile acidity          0\n",
       "citric acid               0\n",
       "residual sugar            0\n",
       "chlorides                 0\n",
       "free sulfur dioxide       0\n",
       "total sulfur dioxide      0\n",
       "density                   0\n",
       "pH                        0\n",
       "sulphates                 0\n",
       "alcohol                   0\n",
       "quality                   0"
      ]
     },
     "execution_count": 10,
     "metadata": {},
     "output_type": "execute_result"
    }
   ],
   "source": [
    "NAN = pd.DataFrame({'Count':df.isna().sum()})\n",
    "NAN"
   ]
  },
  {
   "cell_type": "markdown",
   "id": "867673bf",
   "metadata": {},
   "source": [
    "### Revue statistique:"
   ]
  },
  {
   "cell_type": "code",
   "execution_count": 11,
   "id": "984a98f2",
   "metadata": {},
   "outputs": [
    {
     "data": {
      "text/html": [
       "<div>\n",
       "<style scoped>\n",
       "    .dataframe tbody tr th:only-of-type {\n",
       "        vertical-align: middle;\n",
       "    }\n",
       "\n",
       "    .dataframe tbody tr th {\n",
       "        vertical-align: top;\n",
       "    }\n",
       "\n",
       "    .dataframe thead th {\n",
       "        text-align: right;\n",
       "    }\n",
       "</style>\n",
       "<table border=\"1\" class=\"dataframe\">\n",
       "  <thead>\n",
       "    <tr style=\"text-align: right;\">\n",
       "      <th></th>\n",
       "      <th>fixed acidity</th>\n",
       "      <th>volatile acidity</th>\n",
       "      <th>citric acid</th>\n",
       "      <th>residual sugar</th>\n",
       "      <th>chlorides</th>\n",
       "      <th>free sulfur dioxide</th>\n",
       "      <th>total sulfur dioxide</th>\n",
       "      <th>density</th>\n",
       "      <th>pH</th>\n",
       "      <th>sulphates</th>\n",
       "      <th>alcohol</th>\n",
       "      <th>quality</th>\n",
       "    </tr>\n",
       "  </thead>\n",
       "  <tbody>\n",
       "    <tr>\n",
       "      <th>count</th>\n",
       "      <td>1018.000</td>\n",
       "      <td>1018.000</td>\n",
       "      <td>1018.000</td>\n",
       "      <td>1018.000</td>\n",
       "      <td>1018.000</td>\n",
       "      <td>1018.000</td>\n",
       "      <td>1018.000</td>\n",
       "      <td>1018.000</td>\n",
       "      <td>1018.000</td>\n",
       "      <td>1018.000</td>\n",
       "      <td>1018.000</td>\n",
       "      <td>1018.000</td>\n",
       "    </tr>\n",
       "    <tr>\n",
       "      <th>mean</th>\n",
       "      <td>8.289</td>\n",
       "      <td>0.534</td>\n",
       "      <td>0.269</td>\n",
       "      <td>2.524</td>\n",
       "      <td>0.087</td>\n",
       "      <td>15.649</td>\n",
       "      <td>46.326</td>\n",
       "      <td>0.997</td>\n",
       "      <td>3.312</td>\n",
       "      <td>0.657</td>\n",
       "      <td>10.452</td>\n",
       "      <td>5.641</td>\n",
       "    </tr>\n",
       "    <tr>\n",
       "      <th>std</th>\n",
       "      <td>1.741</td>\n",
       "      <td>0.183</td>\n",
       "      <td>0.196</td>\n",
       "      <td>1.315</td>\n",
       "      <td>0.049</td>\n",
       "      <td>10.177</td>\n",
       "      <td>33.124</td>\n",
       "      <td>0.002</td>\n",
       "      <td>0.158</td>\n",
       "      <td>0.168</td>\n",
       "      <td>1.095</td>\n",
       "      <td>0.812</td>\n",
       "    </tr>\n",
       "    <tr>\n",
       "      <th>min</th>\n",
       "      <td>4.600</td>\n",
       "      <td>0.120</td>\n",
       "      <td>0.000</td>\n",
       "      <td>0.900</td>\n",
       "      <td>0.012</td>\n",
       "      <td>1.000</td>\n",
       "      <td>6.000</td>\n",
       "      <td>0.990</td>\n",
       "      <td>2.740</td>\n",
       "      <td>0.330</td>\n",
       "      <td>8.400</td>\n",
       "      <td>3.000</td>\n",
       "    </tr>\n",
       "    <tr>\n",
       "      <th>25%</th>\n",
       "      <td>7.100</td>\n",
       "      <td>0.390</td>\n",
       "      <td>0.090</td>\n",
       "      <td>1.900</td>\n",
       "      <td>0.070</td>\n",
       "      <td>7.000</td>\n",
       "      <td>21.000</td>\n",
       "      <td>0.996</td>\n",
       "      <td>3.210</td>\n",
       "      <td>0.550</td>\n",
       "      <td>9.500</td>\n",
       "      <td>5.000</td>\n",
       "    </tr>\n",
       "    <tr>\n",
       "      <th>50%</th>\n",
       "      <td>7.900</td>\n",
       "      <td>0.520</td>\n",
       "      <td>0.250</td>\n",
       "      <td>2.200</td>\n",
       "      <td>0.079</td>\n",
       "      <td>13.000</td>\n",
       "      <td>38.000</td>\n",
       "      <td>0.997</td>\n",
       "      <td>3.310</td>\n",
       "      <td>0.620</td>\n",
       "      <td>10.200</td>\n",
       "      <td>6.000</td>\n",
       "    </tr>\n",
       "    <tr>\n",
       "      <th>75%</th>\n",
       "      <td>9.100</td>\n",
       "      <td>0.645</td>\n",
       "      <td>0.420</td>\n",
       "      <td>2.600</td>\n",
       "      <td>0.090</td>\n",
       "      <td>21.000</td>\n",
       "      <td>62.000</td>\n",
       "      <td>0.998</td>\n",
       "      <td>3.400</td>\n",
       "      <td>0.720</td>\n",
       "      <td>11.200</td>\n",
       "      <td>6.000</td>\n",
       "    </tr>\n",
       "    <tr>\n",
       "      <th>max</th>\n",
       "      <td>15.900</td>\n",
       "      <td>1.580</td>\n",
       "      <td>1.000</td>\n",
       "      <td>15.500</td>\n",
       "      <td>0.611</td>\n",
       "      <td>68.000</td>\n",
       "      <td>289.000</td>\n",
       "      <td>1.004</td>\n",
       "      <td>4.010</td>\n",
       "      <td>2.000</td>\n",
       "      <td>14.900</td>\n",
       "      <td>8.000</td>\n",
       "    </tr>\n",
       "  </tbody>\n",
       "</table>\n",
       "</div>"
      ],
      "text/plain": [
       "       fixed acidity  volatile acidity  citric acid  residual sugar  \\\n",
       "count       1018.000          1018.000     1018.000        1018.000   \n",
       "mean           8.289             0.534        0.269           2.524   \n",
       "std            1.741             0.183        0.196           1.315   \n",
       "min            4.600             0.120        0.000           0.900   \n",
       "25%            7.100             0.390        0.090           1.900   \n",
       "50%            7.900             0.520        0.250           2.200   \n",
       "75%            9.100             0.645        0.420           2.600   \n",
       "max           15.900             1.580        1.000          15.500   \n",
       "\n",
       "       chlorides  free sulfur dioxide  total sulfur dioxide   density  \\\n",
       "count   1018.000             1018.000              1018.000  1018.000   \n",
       "mean       0.087               15.649                46.326     0.997   \n",
       "std        0.049               10.177                33.124     0.002   \n",
       "min        0.012                1.000                 6.000     0.990   \n",
       "25%        0.070                7.000                21.000     0.996   \n",
       "50%        0.079               13.000                38.000     0.997   \n",
       "75%        0.090               21.000                62.000     0.998   \n",
       "max        0.611               68.000               289.000     1.004   \n",
       "\n",
       "             pH  sulphates   alcohol   quality  \n",
       "count  1018.000   1018.000  1018.000  1018.000  \n",
       "mean      3.312      0.657    10.452     5.641  \n",
       "std       0.158      0.168     1.095     0.812  \n",
       "min       2.740      0.330     8.400     3.000  \n",
       "25%       3.210      0.550     9.500     5.000  \n",
       "50%       3.310      0.620    10.200     6.000  \n",
       "75%       3.400      0.720    11.200     6.000  \n",
       "max       4.010      2.000    14.900     8.000  "
      ]
     },
     "execution_count": 11,
     "metadata": {},
     "output_type": "execute_result"
    }
   ],
   "source": [
    "stat = round(df.describe(),3)\n",
    "stat"
   ]
  },
  {
   "cell_type": "markdown",
   "id": "014058a4",
   "metadata": {},
   "source": [
    "On affiche la distribution en diagramme boite à moustache afin de vérifier la présence de valeurs aberrantes:"
   ]
  },
  {
   "cell_type": "code",
   "execution_count": 12,
   "id": "a6c6e7f5",
   "metadata": {},
   "outputs": [
    {
     "data": {
      "image/png": "[encoded data removed]",
      "text/plain": [
       "<Figure size 1440x1440 with 12 Axes>"
      ]
     },
     "metadata": {
      "needs_background": "light"
     },
     "output_type": "display_data"
    }
   ],
   "source": [
    "plt.figure(figsize=(20,20))\n",
    "\n",
    "for k in range(0,len(df.columns)):\n",
    "    plt.subplot(4,3,k+1)\n",
    "    plt.boxplot(df[df.columns[k]])\n",
    "    plt.title(f'{df.columns[k]}')\n",
    "    Q3 = stat.loc['75%',df.columns[k]]\n",
    "    Q1 = stat.loc['25%',df.columns[k]]\n",
    "    borne_sup = Q3+1.5*(Q3-Q1)\n",
    "    borne_inf = Q1-1.5*(Q3-Q1)\n",
    "    plt.axhline(y=borne_sup)\n",
    "    plt.axhline(y=borne_inf)\n",
    "        \n",
    "plt.show()"
   ]
  },
  {
   "cell_type": "markdown",
   "id": "398b0e34",
   "metadata": {},
   "source": [
    "On considère qu'une valeur est abérrante si elle est au delà ou en deça, respectivement de Q3 + 1.5 x (Q3-Q1) et Q1 - 1.5 x (Q3 - Q1), matérialisé sur les graphes précédants par les deux lignes horizontales bleues."
   ]
  },
  {
   "cell_type": "markdown",
   "id": "1ef8cf50",
   "metadata": {},
   "source": [
    "On propose de créer un dataset miroir où chaque outlier sera codé à 1 de façon à pouvoir par la suite statuer sur les actions à entreprendre vis-à-vis des données."
   ]
  },
  {
   "cell_type": "code",
   "execution_count": 13,
   "id": "ac166203",
   "metadata": {},
   "outputs": [],
   "source": [
    "miroir = df.copy()"
   ]
  },
  {
   "cell_type": "markdown",
   "id": "9d06fbc6",
   "metadata": {},
   "source": [
    "On crée une fonction qui permet de présenter l'information outlier"
   ]
  },
  {
   "cell_type": "code",
   "execution_count": 14,
   "id": "e095a1f1",
   "metadata": {},
   "outputs": [],
   "source": [
    "def outlier(x,i):\n",
    "    Q3 = stat.loc['75%',df.columns[i]]\n",
    "    Q1 = stat.loc['25%',df.columns[i]]\n",
    "    borne_sup = Q3+1.5*(Q3-Q1)\n",
    "    borne_inf = Q1-1.5*(Q3-Q1)\n",
    "    \n",
    "    if x > borne_sup or x < borne_inf:\n",
    "        return 1\n",
    "    else: \n",
    "        return 0"
   ]
  },
  {
   "cell_type": "markdown",
   "id": "272f1e3e",
   "metadata": {},
   "source": [
    "On applique cette fonction à l'ensemble du dataframe"
   ]
  },
  {
   "cell_type": "code",
   "execution_count": 15,
   "id": "038d1d5e",
   "metadata": {},
   "outputs": [],
   "source": [
    "for i in range(len(df.columns)):\n",
    "    miroir[df.columns[i]] = miroir[df.columns[i]].apply(lambda x: outlier(x,i))"
   ]
  },
  {
   "cell_type": "code",
   "execution_count": 16,
   "id": "874038ca",
   "metadata": {},
   "outputs": [
    {
     "data": {
      "text/html": [
       "<div>\n",
       "<style scoped>\n",
       "    .dataframe tbody tr th:only-of-type {\n",
       "        vertical-align: middle;\n",
       "    }\n",
       "\n",
       "    .dataframe tbody tr th {\n",
       "        vertical-align: top;\n",
       "    }\n",
       "\n",
       "    .dataframe thead th {\n",
       "        text-align: right;\n",
       "    }\n",
       "</style>\n",
       "<table border=\"1\" class=\"dataframe\">\n",
       "  <thead>\n",
       "    <tr style=\"text-align: right;\">\n",
       "      <th></th>\n",
       "      <th>fixed acidity</th>\n",
       "      <th>volatile acidity</th>\n",
       "      <th>citric acid</th>\n",
       "      <th>residual sugar</th>\n",
       "      <th>chlorides</th>\n",
       "      <th>free sulfur dioxide</th>\n",
       "      <th>total sulfur dioxide</th>\n",
       "      <th>density</th>\n",
       "      <th>pH</th>\n",
       "      <th>sulphates</th>\n",
       "      <th>alcohol</th>\n",
       "      <th>quality</th>\n",
       "    </tr>\n",
       "  </thead>\n",
       "  <tbody>\n",
       "    <tr>\n",
       "      <th>0</th>\n",
       "      <td>0</td>\n",
       "      <td>0</td>\n",
       "      <td>0</td>\n",
       "      <td>0</td>\n",
       "      <td>0</td>\n",
       "      <td>0</td>\n",
       "      <td>0</td>\n",
       "      <td>0</td>\n",
       "      <td>0</td>\n",
       "      <td>0</td>\n",
       "      <td>0</td>\n",
       "      <td>0</td>\n",
       "    </tr>\n",
       "    <tr>\n",
       "      <th>1</th>\n",
       "      <td>0</td>\n",
       "      <td>0</td>\n",
       "      <td>0</td>\n",
       "      <td>0</td>\n",
       "      <td>0</td>\n",
       "      <td>0</td>\n",
       "      <td>0</td>\n",
       "      <td>0</td>\n",
       "      <td>0</td>\n",
       "      <td>0</td>\n",
       "      <td>0</td>\n",
       "      <td>0</td>\n",
       "    </tr>\n",
       "    <tr>\n",
       "      <th>2</th>\n",
       "      <td>0</td>\n",
       "      <td>0</td>\n",
       "      <td>0</td>\n",
       "      <td>0</td>\n",
       "      <td>0</td>\n",
       "      <td>0</td>\n",
       "      <td>0</td>\n",
       "      <td>0</td>\n",
       "      <td>0</td>\n",
       "      <td>0</td>\n",
       "      <td>0</td>\n",
       "      <td>0</td>\n",
       "    </tr>\n",
       "    <tr>\n",
       "      <th>3</th>\n",
       "      <td>0</td>\n",
       "      <td>0</td>\n",
       "      <td>0</td>\n",
       "      <td>0</td>\n",
       "      <td>0</td>\n",
       "      <td>0</td>\n",
       "      <td>0</td>\n",
       "      <td>0</td>\n",
       "      <td>0</td>\n",
       "      <td>0</td>\n",
       "      <td>0</td>\n",
       "      <td>0</td>\n",
       "    </tr>\n",
       "    <tr>\n",
       "      <th>5</th>\n",
       "      <td>0</td>\n",
       "      <td>0</td>\n",
       "      <td>0</td>\n",
       "      <td>0</td>\n",
       "      <td>0</td>\n",
       "      <td>0</td>\n",
       "      <td>0</td>\n",
       "      <td>0</td>\n",
       "      <td>0</td>\n",
       "      <td>0</td>\n",
       "      <td>0</td>\n",
       "      <td>0</td>\n",
       "    </tr>\n",
       "    <tr>\n",
       "      <th>...</th>\n",
       "      <td>...</td>\n",
       "      <td>...</td>\n",
       "      <td>...</td>\n",
       "      <td>...</td>\n",
       "      <td>...</td>\n",
       "      <td>...</td>\n",
       "      <td>...</td>\n",
       "      <td>...</td>\n",
       "      <td>...</td>\n",
       "      <td>...</td>\n",
       "      <td>...</td>\n",
       "      <td>...</td>\n",
       "    </tr>\n",
       "    <tr>\n",
       "      <th>1138</th>\n",
       "      <td>0</td>\n",
       "      <td>0</td>\n",
       "      <td>0</td>\n",
       "      <td>0</td>\n",
       "      <td>0</td>\n",
       "      <td>0</td>\n",
       "      <td>0</td>\n",
       "      <td>0</td>\n",
       "      <td>0</td>\n",
       "      <td>0</td>\n",
       "      <td>0</td>\n",
       "      <td>0</td>\n",
       "    </tr>\n",
       "    <tr>\n",
       "      <th>1139</th>\n",
       "      <td>0</td>\n",
       "      <td>0</td>\n",
       "      <td>0</td>\n",
       "      <td>0</td>\n",
       "      <td>0</td>\n",
       "      <td>0</td>\n",
       "      <td>0</td>\n",
       "      <td>0</td>\n",
       "      <td>0</td>\n",
       "      <td>0</td>\n",
       "      <td>0</td>\n",
       "      <td>0</td>\n",
       "    </tr>\n",
       "    <tr>\n",
       "      <th>1140</th>\n",
       "      <td>0</td>\n",
       "      <td>0</td>\n",
       "      <td>0</td>\n",
       "      <td>0</td>\n",
       "      <td>0</td>\n",
       "      <td>0</td>\n",
       "      <td>0</td>\n",
       "      <td>0</td>\n",
       "      <td>0</td>\n",
       "      <td>0</td>\n",
       "      <td>0</td>\n",
       "      <td>0</td>\n",
       "    </tr>\n",
       "    <tr>\n",
       "      <th>1141</th>\n",
       "      <td>0</td>\n",
       "      <td>0</td>\n",
       "      <td>0</td>\n",
       "      <td>0</td>\n",
       "      <td>0</td>\n",
       "      <td>0</td>\n",
       "      <td>0</td>\n",
       "      <td>0</td>\n",
       "      <td>0</td>\n",
       "      <td>0</td>\n",
       "      <td>0</td>\n",
       "      <td>0</td>\n",
       "    </tr>\n",
       "    <tr>\n",
       "      <th>1142</th>\n",
       "      <td>0</td>\n",
       "      <td>0</td>\n",
       "      <td>0</td>\n",
       "      <td>0</td>\n",
       "      <td>0</td>\n",
       "      <td>0</td>\n",
       "      <td>0</td>\n",
       "      <td>0</td>\n",
       "      <td>0</td>\n",
       "      <td>0</td>\n",
       "      <td>0</td>\n",
       "      <td>0</td>\n",
       "    </tr>\n",
       "  </tbody>\n",
       "</table>\n",
       "<p>1018 rows × 12 columns</p>\n",
       "</div>"
      ],
      "text/plain": [
       "      fixed acidity  volatile acidity  citric acid  residual sugar  chlorides  \\\n",
       "0                 0                 0            0               0          0   \n",
       "1                 0                 0            0               0          0   \n",
       "2                 0                 0            0               0          0   \n",
       "3                 0                 0            0               0          0   \n",
       "5                 0                 0            0               0          0   \n",
       "...             ...               ...          ...             ...        ...   \n",
       "1138              0                 0            0               0          0   \n",
       "1139              0                 0            0               0          0   \n",
       "1140              0                 0            0               0          0   \n",
       "1141              0                 0            0               0          0   \n",
       "1142              0                 0            0               0          0   \n",
       "\n",
       "      free sulfur dioxide  total sulfur dioxide  density  pH  sulphates  \\\n",
       "0                       0                     0        0   0          0   \n",
       "1                       0                     0        0   0          0   \n",
       "2                       0                     0        0   0          0   \n",
       "3                       0                     0        0   0          0   \n",
       "5                       0                     0        0   0          0   \n",
       "...                   ...                   ...      ...  ..        ...   \n",
       "1138                    0                     0        0   0          0   \n",
       "1139                    0                     0        0   0          0   \n",
       "1140                    0                     0        0   0          0   \n",
       "1141                    0                     0        0   0          0   \n",
       "1142                    0                     0        0   0          0   \n",
       "\n",
       "      alcohol  quality  \n",
       "0           0        0  \n",
       "1           0        0  \n",
       "2           0        0  \n",
       "3           0        0  \n",
       "5           0        0  \n",
       "...       ...      ...  \n",
       "1138        0        0  \n",
       "1139        0        0  \n",
       "1140        0        0  \n",
       "1141        0        0  \n",
       "1142        0        0  \n",
       "\n",
       "[1018 rows x 12 columns]"
      ]
     },
     "execution_count": 16,
     "metadata": {},
     "output_type": "execute_result"
    }
   ],
   "source": [
    "miroir"
   ]
  },
  {
   "cell_type": "markdown",
   "id": "30c8e1c5",
   "metadata": {},
   "source": [
    "On présente les résultats dans un dataframe"
   ]
  },
  {
   "cell_type": "code",
   "execution_count": 17,
   "id": "7f871c81",
   "metadata": {},
   "outputs": [
    {
     "data": {
      "text/html": [
       "<div>\n",
       "<style scoped>\n",
       "    .dataframe tbody tr th:only-of-type {\n",
       "        vertical-align: middle;\n",
       "    }\n",
       "\n",
       "    .dataframe tbody tr th {\n",
       "        vertical-align: top;\n",
       "    }\n",
       "\n",
       "    .dataframe thead th {\n",
       "        text-align: right;\n",
       "    }\n",
       "</style>\n",
       "<table border=\"1\" class=\"dataframe\">\n",
       "  <thead>\n",
       "    <tr style=\"text-align: right;\">\n",
       "      <th></th>\n",
       "      <th>0</th>\n",
       "      <th>1</th>\n",
       "      <th>%</th>\n",
       "    </tr>\n",
       "  </thead>\n",
       "  <tbody>\n",
       "    <tr>\n",
       "      <th>fixed acidity</th>\n",
       "      <td>981</td>\n",
       "      <td>37</td>\n",
       "      <td>3.63</td>\n",
       "    </tr>\n",
       "    <tr>\n",
       "      <th>volatile acidity</th>\n",
       "      <td>1008</td>\n",
       "      <td>10</td>\n",
       "      <td>0.98</td>\n",
       "    </tr>\n",
       "    <tr>\n",
       "      <th>citric acid</th>\n",
       "      <td>1017</td>\n",
       "      <td>1</td>\n",
       "      <td>0.10</td>\n",
       "    </tr>\n",
       "    <tr>\n",
       "      <th>residual sugar</th>\n",
       "      <td>923</td>\n",
       "      <td>95</td>\n",
       "      <td>9.33</td>\n",
       "    </tr>\n",
       "    <tr>\n",
       "      <th>chlorides</th>\n",
       "      <td>947</td>\n",
       "      <td>71</td>\n",
       "      <td>6.97</td>\n",
       "    </tr>\n",
       "    <tr>\n",
       "      <th>free sulfur dioxide</th>\n",
       "      <td>1002</td>\n",
       "      <td>16</td>\n",
       "      <td>1.57</td>\n",
       "    </tr>\n",
       "    <tr>\n",
       "      <th>total sulfur dioxide</th>\n",
       "      <td>985</td>\n",
       "      <td>33</td>\n",
       "      <td>3.24</td>\n",
       "    </tr>\n",
       "    <tr>\n",
       "      <th>density</th>\n",
       "      <td>971</td>\n",
       "      <td>47</td>\n",
       "      <td>4.62</td>\n",
       "    </tr>\n",
       "    <tr>\n",
       "      <th>pH</th>\n",
       "      <td>994</td>\n",
       "      <td>24</td>\n",
       "      <td>2.36</td>\n",
       "    </tr>\n",
       "    <tr>\n",
       "      <th>sulphates</th>\n",
       "      <td>977</td>\n",
       "      <td>41</td>\n",
       "      <td>4.03</td>\n",
       "    </tr>\n",
       "    <tr>\n",
       "      <th>alcohol</th>\n",
       "      <td>1012</td>\n",
       "      <td>6</td>\n",
       "      <td>0.59</td>\n",
       "    </tr>\n",
       "    <tr>\n",
       "      <th>quality</th>\n",
       "      <td>997</td>\n",
       "      <td>21</td>\n",
       "      <td>2.06</td>\n",
       "    </tr>\n",
       "  </tbody>\n",
       "</table>\n",
       "</div>"
      ],
      "text/plain": [
       "                         0   1     %\n",
       "fixed acidity          981  37  3.63\n",
       "volatile acidity      1008  10  0.98\n",
       "citric acid           1017   1  0.10\n",
       "residual sugar         923  95  9.33\n",
       "chlorides              947  71  6.97\n",
       "free sulfur dioxide   1002  16  1.57\n",
       "total sulfur dioxide   985  33  3.24\n",
       "density                971  47  4.62\n",
       "pH                     994  24  2.36\n",
       "sulphates              977  41  4.03\n",
       "alcohol               1012   6  0.59\n",
       "quality                997  21  2.06"
      ]
     },
     "execution_count": 17,
     "metadata": {},
     "output_type": "execute_result"
    }
   ],
   "source": [
    "liste_0 =[]\n",
    "liste_1 =[]\n",
    "\n",
    "for i in range(len(df.columns)):\n",
    "    liste_0.append(miroir[df.columns[i]].value_counts()[0])\n",
    "    liste_1.append(miroir[df.columns[i]].value_counts()[1])\n",
    "\n",
    "visu = pd.DataFrame({0:liste_0,1:liste_1},index = df.columns)\n",
    "visu['%'] = round(100*visu[1]/(visu[1]+visu[0]),2)\n",
    "visu"
   ]
  },
  {
   "cell_type": "markdown",
   "id": "e13712f5",
   "metadata": {},
   "source": [
    "La proportion de valeur aberrante est plutot faible à l'exception des variables 'residual sugar' et 'chlorides'"
   ]
  },
  {
   "cell_type": "markdown",
   "id": "c5d05bac",
   "metadata": {},
   "source": [
    "On cherche à présent à savoir comment sont distribuées ces valeurs abérrantes dans le dataset "
   ]
  },
  {
   "cell_type": "code",
   "execution_count": 18,
   "id": "3819b83d",
   "metadata": {},
   "outputs": [],
   "source": [
    "miroir['somme'] = miroir.sum(axis = 1)"
   ]
  },
  {
   "cell_type": "code",
   "execution_count": 19,
   "id": "fbdd6e28",
   "metadata": {},
   "outputs": [
    {
     "data": {
      "text/plain": [
       "0    731\n",
       "1    205\n",
       "2     59\n",
       "3     13\n",
       "4     10\n",
       "Name: somme, dtype: int64"
      ]
     },
     "execution_count": 19,
     "metadata": {},
     "output_type": "execute_result"
    }
   ],
   "source": [
    "miroir.somme.value_counts()"
   ]
  },
  {
   "cell_type": "markdown",
   "id": "2b26ee2b",
   "metadata": {},
   "source": [
    "On apprend ainsi que 731 entrées ne présentent aucune valeurs abérrantes et 205 entrées seulement 1 valeur aberrante"
   ]
  },
  {
   "cell_type": "code",
   "execution_count": 20,
   "id": "8e426bb9",
   "metadata": {},
   "outputs": [
    {
     "data": {
      "text/plain": [
       "0    829\n",
       "1    151\n",
       "2     30\n",
       "3      7\n",
       "4      1\n",
       "Name: somme, dtype: int64"
      ]
     },
     "execution_count": 20,
     "metadata": {},
     "output_type": "execute_result"
    }
   ],
   "source": [
    "miroir_bis = miroir.drop(['residual sugar','chlorides','somme'],axis = 1)\n",
    "miroir_bis['somme'] = miroir_bis.sum(axis = 1)\n",
    "miroir_bis.somme.value_counts()"
   ]
  },
  {
   "cell_type": "markdown",
   "id": "a8d3ef7e",
   "metadata": {},
   "source": [
    "On constate qu'en supprimant les variables à relativement \"forte\" présence de valeurs abérrantes,i.e \"Chloride\" et residual sugar\" ainsi que les lignes présentant au moins 1 valeur abérrante, on dispose d'un jeu de donnée représentant 81% du jeu de donnée initiale sans valeurs abérrantes contre 71%  si on garde toutes les variables"
   ]
  },
  {
   "cell_type": "markdown",
   "id": "0d19a669",
   "metadata": {},
   "source": [
    "- Afin de tendre vers un modèle statistiquement robuste, les choix suivants sont réalisés:\n",
    "    - suppression des variables \"Chlorides\" et \"residual sugar\"\n",
    "    - suppression de toute entrée présentant au moins une valeur abérrante"
   ]
  },
  {
   "cell_type": "code",
   "execution_count": 21,
   "id": "b1a77293",
   "metadata": {},
   "outputs": [],
   "source": [
    "to_suppr = miroir_bis[miroir_bis['somme']>=1].index"
   ]
  },
  {
   "cell_type": "code",
   "execution_count": 22,
   "id": "40044c3c",
   "metadata": {},
   "outputs": [],
   "source": [
    "df = df.drop(['residual sugar','chlorides'],axis = 1)"
   ]
  },
  {
   "cell_type": "code",
   "execution_count": 23,
   "id": "27413684",
   "metadata": {},
   "outputs": [],
   "source": [
    "df = df.drop(to_suppr)"
   ]
  },
  {
   "cell_type": "code",
   "execution_count": 24,
   "id": "5102253e",
   "metadata": {},
   "outputs": [
    {
     "data": {
      "text/html": [
       "<div>\n",
       "<style scoped>\n",
       "    .dataframe tbody tr th:only-of-type {\n",
       "        vertical-align: middle;\n",
       "    }\n",
       "\n",
       "    .dataframe tbody tr th {\n",
       "        vertical-align: top;\n",
       "    }\n",
       "\n",
       "    .dataframe thead th {\n",
       "        text-align: right;\n",
       "    }\n",
       "</style>\n",
       "<table border=\"1\" class=\"dataframe\">\n",
       "  <thead>\n",
       "    <tr style=\"text-align: right;\">\n",
       "      <th></th>\n",
       "      <th>fixed acidity</th>\n",
       "      <th>volatile acidity</th>\n",
       "      <th>citric acid</th>\n",
       "      <th>free sulfur dioxide</th>\n",
       "      <th>total sulfur dioxide</th>\n",
       "      <th>density</th>\n",
       "      <th>pH</th>\n",
       "      <th>sulphates</th>\n",
       "      <th>alcohol</th>\n",
       "      <th>quality</th>\n",
       "    </tr>\n",
       "  </thead>\n",
       "  <tbody>\n",
       "    <tr>\n",
       "      <th>0</th>\n",
       "      <td>7.4</td>\n",
       "      <td>0.700</td>\n",
       "      <td>0.00</td>\n",
       "      <td>11.0</td>\n",
       "      <td>34.0</td>\n",
       "      <td>0.99780</td>\n",
       "      <td>3.51</td>\n",
       "      <td>0.56</td>\n",
       "      <td>9.4</td>\n",
       "      <td>5</td>\n",
       "    </tr>\n",
       "    <tr>\n",
       "      <th>1</th>\n",
       "      <td>7.8</td>\n",
       "      <td>0.880</td>\n",
       "      <td>0.00</td>\n",
       "      <td>25.0</td>\n",
       "      <td>67.0</td>\n",
       "      <td>0.99680</td>\n",
       "      <td>3.20</td>\n",
       "      <td>0.68</td>\n",
       "      <td>9.8</td>\n",
       "      <td>5</td>\n",
       "    </tr>\n",
       "    <tr>\n",
       "      <th>2</th>\n",
       "      <td>7.8</td>\n",
       "      <td>0.760</td>\n",
       "      <td>0.04</td>\n",
       "      <td>15.0</td>\n",
       "      <td>54.0</td>\n",
       "      <td>0.99700</td>\n",
       "      <td>3.26</td>\n",
       "      <td>0.65</td>\n",
       "      <td>9.8</td>\n",
       "      <td>5</td>\n",
       "    </tr>\n",
       "    <tr>\n",
       "      <th>3</th>\n",
       "      <td>11.2</td>\n",
       "      <td>0.280</td>\n",
       "      <td>0.56</td>\n",
       "      <td>17.0</td>\n",
       "      <td>60.0</td>\n",
       "      <td>0.99800</td>\n",
       "      <td>3.16</td>\n",
       "      <td>0.58</td>\n",
       "      <td>9.8</td>\n",
       "      <td>6</td>\n",
       "    </tr>\n",
       "    <tr>\n",
       "      <th>5</th>\n",
       "      <td>7.4</td>\n",
       "      <td>0.660</td>\n",
       "      <td>0.00</td>\n",
       "      <td>13.0</td>\n",
       "      <td>40.0</td>\n",
       "      <td>0.99780</td>\n",
       "      <td>3.51</td>\n",
       "      <td>0.56</td>\n",
       "      <td>9.4</td>\n",
       "      <td>5</td>\n",
       "    </tr>\n",
       "    <tr>\n",
       "      <th>...</th>\n",
       "      <td>...</td>\n",
       "      <td>...</td>\n",
       "      <td>...</td>\n",
       "      <td>...</td>\n",
       "      <td>...</td>\n",
       "      <td>...</td>\n",
       "      <td>...</td>\n",
       "      <td>...</td>\n",
       "      <td>...</td>\n",
       "      <td>...</td>\n",
       "    </tr>\n",
       "    <tr>\n",
       "      <th>1138</th>\n",
       "      <td>6.3</td>\n",
       "      <td>0.510</td>\n",
       "      <td>0.13</td>\n",
       "      <td>29.0</td>\n",
       "      <td>40.0</td>\n",
       "      <td>0.99574</td>\n",
       "      <td>3.42</td>\n",
       "      <td>0.75</td>\n",
       "      <td>11.0</td>\n",
       "      <td>6</td>\n",
       "    </tr>\n",
       "    <tr>\n",
       "      <th>1139</th>\n",
       "      <td>6.8</td>\n",
       "      <td>0.620</td>\n",
       "      <td>0.08</td>\n",
       "      <td>28.0</td>\n",
       "      <td>38.0</td>\n",
       "      <td>0.99651</td>\n",
       "      <td>3.42</td>\n",
       "      <td>0.82</td>\n",
       "      <td>9.5</td>\n",
       "      <td>6</td>\n",
       "    </tr>\n",
       "    <tr>\n",
       "      <th>1140</th>\n",
       "      <td>6.2</td>\n",
       "      <td>0.600</td>\n",
       "      <td>0.08</td>\n",
       "      <td>32.0</td>\n",
       "      <td>44.0</td>\n",
       "      <td>0.99490</td>\n",
       "      <td>3.45</td>\n",
       "      <td>0.58</td>\n",
       "      <td>10.5</td>\n",
       "      <td>5</td>\n",
       "    </tr>\n",
       "    <tr>\n",
       "      <th>1141</th>\n",
       "      <td>5.9</td>\n",
       "      <td>0.550</td>\n",
       "      <td>0.10</td>\n",
       "      <td>39.0</td>\n",
       "      <td>51.0</td>\n",
       "      <td>0.99512</td>\n",
       "      <td>3.52</td>\n",
       "      <td>0.76</td>\n",
       "      <td>11.2</td>\n",
       "      <td>6</td>\n",
       "    </tr>\n",
       "    <tr>\n",
       "      <th>1142</th>\n",
       "      <td>5.9</td>\n",
       "      <td>0.645</td>\n",
       "      <td>0.12</td>\n",
       "      <td>32.0</td>\n",
       "      <td>44.0</td>\n",
       "      <td>0.99547</td>\n",
       "      <td>3.57</td>\n",
       "      <td>0.71</td>\n",
       "      <td>10.2</td>\n",
       "      <td>5</td>\n",
       "    </tr>\n",
       "  </tbody>\n",
       "</table>\n",
       "<p>829 rows × 10 columns</p>\n",
       "</div>"
      ],
      "text/plain": [
       "      fixed acidity  volatile acidity  citric acid  free sulfur dioxide  \\\n",
       "0               7.4             0.700         0.00                 11.0   \n",
       "1               7.8             0.880         0.00                 25.0   \n",
       "2               7.8             0.760         0.04                 15.0   \n",
       "3              11.2             0.280         0.56                 17.0   \n",
       "5               7.4             0.660         0.00                 13.0   \n",
       "...             ...               ...          ...                  ...   \n",
       "1138            6.3             0.510         0.13                 29.0   \n",
       "1139            6.8             0.620         0.08                 28.0   \n",
       "1140            6.2             0.600         0.08                 32.0   \n",
       "1141            5.9             0.550         0.10                 39.0   \n",
       "1142            5.9             0.645         0.12                 32.0   \n",
       "\n",
       "      total sulfur dioxide  density    pH  sulphates  alcohol  quality  \n",
       "0                     34.0  0.99780  3.51       0.56      9.4        5  \n",
       "1                     67.0  0.99680  3.20       0.68      9.8        5  \n",
       "2                     54.0  0.99700  3.26       0.65      9.8        5  \n",
       "3                     60.0  0.99800  3.16       0.58      9.8        6  \n",
       "5                     40.0  0.99780  3.51       0.56      9.4        5  \n",
       "...                    ...      ...   ...        ...      ...      ...  \n",
       "1138                  40.0  0.99574  3.42       0.75     11.0        6  \n",
       "1139                  38.0  0.99651  3.42       0.82      9.5        6  \n",
       "1140                  44.0  0.99490  3.45       0.58     10.5        5  \n",
       "1141                  51.0  0.99512  3.52       0.76     11.2        6  \n",
       "1142                  44.0  0.99547  3.57       0.71     10.2        5  \n",
       "\n",
       "[829 rows x 10 columns]"
      ]
     },
     "execution_count": 24,
     "metadata": {},
     "output_type": "execute_result"
    }
   ],
   "source": [
    "df"
   ]
  },
  {
   "cell_type": "code",
   "execution_count": 25,
   "id": "ec4788cc",
   "metadata": {},
   "outputs": [
    {
     "data": {
      "image/png": "[encoded data removed]",
      "text/plain": [
       "<Figure size 1440x1440 with 10 Axes>"
      ]
     },
     "metadata": {
      "needs_background": "light"
     },
     "output_type": "display_data"
    }
   ],
   "source": [
    "plt.figure(figsize=(20,20))\n",
    "\n",
    "for k in range(0,len(df.columns)):\n",
    "    plt.subplot(4,3,k+1)\n",
    "    plt.boxplot(df[df.columns[k]])\n",
    "    plt.title(f'{df.columns[k]}')\n",
    "        \n",
    "plt.show()"
   ]
  },
  {
   "cell_type": "markdown",
   "id": "0110f33b",
   "metadata": {},
   "source": [
    "### Essai de modèles:"
   ]
  },
  {
   "cell_type": "markdown",
   "id": "e7aca1c3",
   "metadata": {},
   "source": [
    "Définition des features / target"
   ]
  },
  {
   "cell_type": "markdown",
   "id": "9ad404bf",
   "metadata": {},
   "source": [
    "On imagine que la variable pertinente à prédire ici est la qualité"
   ]
  },
  {
   "cell_type": "code",
   "execution_count": 26,
   "id": "cb53e76b",
   "metadata": {},
   "outputs": [],
   "source": [
    "features = df.drop(['quality'],axis = 1)\n",
    "target = df['quality']"
   ]
  },
  {
   "cell_type": "markdown",
   "id": "b6ba9a57",
   "metadata": {},
   "source": [
    "Préparation / normalisation des données"
   ]
  },
  {
   "cell_type": "code",
   "execution_count": 27,
   "id": "750eddca",
   "metadata": {},
   "outputs": [],
   "source": [
    "X_train,X_test,y_train,y_test = train_test_split(features,target,test_size = 0.2)\n",
    "\n",
    "scaler = preprocessing.StandardScaler().fit(X_train)\n",
    "X_train_scaled = scaler.transform(X_train)\n",
    "X_test_scaled = scaler.transform(X_test)"
   ]
  },
  {
   "cell_type": "markdown",
   "id": "d3d3d3f0",
   "metadata": {},
   "source": [
    "MODEL N°1 - REGRESSION LOGISTIQUE"
   ]
  },
  {
   "cell_type": "code",
   "execution_count": 28,
   "id": "a611ea28",
   "metadata": {},
   "outputs": [
    {
     "data": {
      "text/plain": [
       "0.6566265060240963"
      ]
     },
     "execution_count": 28,
     "metadata": {},
     "output_type": "execute_result"
    }
   ],
   "source": [
    "logreg = LogisticRegression()\n",
    "logreg.fit(X_train_scaled,y_train)\n",
    "logreg.score(X_test_scaled,y_test)"
   ]
  },
  {
   "cell_type": "markdown",
   "id": "43433dfa",
   "metadata": {},
   "source": [
    "MODEL N°1_bis - REGRESSION LOGISTIQUE - optimisé"
   ]
  },
  {
   "cell_type": "code",
   "execution_count": 29,
   "id": "18f6fe2f",
   "metadata": {},
   "outputs": [
    {
     "data": {
      "text/plain": [
       "0.6566265060240963"
      ]
     },
     "execution_count": 29,
     "metadata": {},
     "output_type": "execute_result"
    }
   ],
   "source": [
    "clf_lr = LogisticRegression()\n",
    "params_lr = {'solver':['liblinear','lbfgs','newton-cg','saga'],'C' :[10**(i) for i in range(-4,5)]}\n",
    "\n",
    "gridcv = GridSearchCV(clf_lr,param_grid =params_lr,scoring = 'accuracy',cv = 5)\n",
    "\n",
    "grille = gridcv.fit(X_train_scaled,y_train)\n",
    "grille.score(X_test_scaled,y_test)"
   ]
  },
  {
   "cell_type": "markdown",
   "id": "34c988c0",
   "metadata": {},
   "source": [
    "MODEL N°2 - KNN"
   ]
  },
  {
   "cell_type": "code",
   "execution_count": 30,
   "id": "4c528822",
   "metadata": {},
   "outputs": [
    {
     "data": {
      "text/plain": [
       "0.608433734939759"
      ]
     },
     "execution_count": 30,
     "metadata": {},
     "output_type": "execute_result"
    }
   ],
   "source": [
    "K7NN = neighbors.KNeighborsClassifier(n_neighbors=7,metric ='minkowski')\n",
    "K7NN.fit(X_train_scaled,y_train)\n",
    "K7NN.score(X_test_scaled,y_test)"
   ]
  },
  {
   "cell_type": "markdown",
   "id": "e1515158",
   "metadata": {},
   "source": [
    "MODEL N°2_bis - KNN optimisé"
   ]
  },
  {
   "cell_type": "code",
   "execution_count": 31,
   "id": "b578b627",
   "metadata": {},
   "outputs": [
    {
     "data": {
      "image/png": "[encoded data removed]",
      "text/plain": [
       "<Figure size 432x288 with 1 Axes>"
      ]
     },
     "metadata": {
      "needs_background": "light"
     },
     "output_type": "display_data"
    }
   ],
   "source": [
    "score_minko = []\n",
    "score_man =[]\n",
    "score_cheb =[]\n",
    "\n",
    "meta = [score_minko,score_man,score_cheb]\n",
    "\n",
    "termes =['minkowski','manhattan','chebyshev']\n",
    "\n",
    "for i,terme in enumerate(termes):\n",
    "    for k in range(1,40):\n",
    "        knn = neighbors.KNeighborsClassifier(n_neighbors=k,metric =terme)\n",
    "        knn.fit(X_train_scaled,y_train)\n",
    "        y_pred = knn.predict(X_test)\n",
    "        score =accuracy_score(y_test,y_pred)\n",
    "        meta[i].append(score)\n",
    "        \n",
    "k = [i for i in range(1,40)]\n",
    "\n",
    "plt.plot(k,score_minko,label ='minko')\n",
    "plt.plot(k,score_man,label ='man')\n",
    "plt.plot(k,score_cheb,label = 'cheb')\n",
    "plt.legend()\n",
    "plt.show()"
   ]
  },
  {
   "cell_type": "code",
   "execution_count": 32,
   "id": "dfb5e3c5",
   "metadata": {},
   "outputs": [
    {
     "data": {
      "text/plain": [
       "2"
      ]
     },
     "execution_count": 32,
     "metadata": {},
     "output_type": "execute_result"
    }
   ],
   "source": [
    "np.argmax(score_man)"
   ]
  },
  {
   "cell_type": "code",
   "execution_count": 33,
   "id": "c1adddab",
   "metadata": {},
   "outputs": [
    {
     "data": {
      "text/plain": [
       "0.5120481927710844"
      ]
     },
     "execution_count": 33,
     "metadata": {},
     "output_type": "execute_result"
    }
   ],
   "source": [
    "K6NN = neighbors.KNeighborsClassifier(n_neighbors=np.argmax(score_man),metric ='manhattan')\n",
    "K6NN.fit(X_train_scaled,y_train)\n",
    "K6NN.score(X_test_scaled,y_test)"
   ]
  },
  {
   "cell_type": "markdown",
   "id": "efae04af",
   "metadata": {},
   "source": [
    "La démarche d'optimisation n'est pas fructueuse"
   ]
  },
  {
   "cell_type": "markdown",
   "id": "66d3b07e",
   "metadata": {},
   "source": [
    "MODEL N°x - RESEAU NEURONNE DENSE"
   ]
  },
  {
   "cell_type": "code",
   "execution_count": 34,
   "id": "f8989df1",
   "metadata": {},
   "outputs": [
    {
     "name": "stdout",
     "output_type": "stream",
     "text": [
      "Epoch 1/50\n",
      "67/67 [==============================] - 1s 5ms/step - loss: 1.2155 - accuracy: 0.5158 - val_loss: 0.9107 - val_accuracy: 0.6205\n",
      "Epoch 2/50\n",
      "67/67 [==============================] - 0s 3ms/step - loss: 0.9497 - accuracy: 0.5732 - val_loss: 0.8905 - val_accuracy: 0.5843\n",
      "Epoch 3/50\n",
      "67/67 [==============================] - 0s 2ms/step - loss: 0.9069 - accuracy: 0.5867 - val_loss: 0.8680 - val_accuracy: 0.5843\n",
      "Epoch 4/50\n",
      "67/67 [==============================] - 0s 2ms/step - loss: 0.8781 - accuracy: 0.6018 - val_loss: 0.8422 - val_accuracy: 0.6325\n",
      "Epoch 5/50\n",
      "67/67 [==============================] - 0s 2ms/step - loss: 0.8743 - accuracy: 0.5852 - val_loss: 0.8828 - val_accuracy: 0.5964\n",
      "Epoch 6/50\n",
      "67/67 [==============================] - 0s 2ms/step - loss: 0.8615 - accuracy: 0.6018 - val_loss: 0.8490 - val_accuracy: 0.6084\n",
      "Epoch 7/50\n",
      "67/67 [==============================] - 0s 2ms/step - loss: 0.8436 - accuracy: 0.6078 - val_loss: 0.8205 - val_accuracy: 0.6807\n",
      "Epoch 8/50\n",
      "67/67 [==============================] - 0s 2ms/step - loss: 0.8475 - accuracy: 0.6259 - val_loss: 0.8930 - val_accuracy: 0.5723\n",
      "Epoch 9/50\n",
      "67/67 [==============================] - 0s 2ms/step - loss: 0.8404 - accuracy: 0.6139 - val_loss: 0.8612 - val_accuracy: 0.6024\n",
      "Epoch 10/50\n",
      "67/67 [==============================] - 0s 2ms/step - loss: 0.8327 - accuracy: 0.6365 - val_loss: 0.8256 - val_accuracy: 0.6747\n",
      "Epoch 11/50\n",
      "67/67 [==============================] - 0s 2ms/step - loss: 0.7936 - accuracy: 0.6259 - val_loss: 0.8379 - val_accuracy: 0.6627\n",
      "Epoch 12/50\n",
      "67/67 [==============================] - 0s 2ms/step - loss: 0.8121 - accuracy: 0.6380 - val_loss: 0.8464 - val_accuracy: 0.6807\n",
      "Epoch 13/50\n",
      "67/67 [==============================] - 0s 2ms/step - loss: 0.8024 - accuracy: 0.6259 - val_loss: 0.8878 - val_accuracy: 0.6325\n",
      "Epoch 14/50\n",
      "67/67 [==============================] - 0s 2ms/step - loss: 0.8060 - accuracy: 0.6214 - val_loss: 0.8652 - val_accuracy: 0.6687\n",
      "Epoch 15/50\n",
      "67/67 [==============================] - 0s 3ms/step - loss: 0.7777 - accuracy: 0.6290 - val_loss: 0.8708 - val_accuracy: 0.6566\n",
      "Epoch 16/50\n",
      "67/67 [==============================] - 0s 2ms/step - loss: 0.7604 - accuracy: 0.6757 - val_loss: 0.8887 - val_accuracy: 0.6566\n",
      "Epoch 17/50\n",
      "67/67 [==============================] - 0s 2ms/step - loss: 0.7651 - accuracy: 0.6410 - val_loss: 0.8458 - val_accuracy: 0.6928\n",
      "Epoch 18/50\n",
      "67/67 [==============================] - 0s 2ms/step - loss: 0.7578 - accuracy: 0.6561 - val_loss: 0.8651 - val_accuracy: 0.6145\n",
      "Epoch 19/50\n",
      "67/67 [==============================] - 0s 2ms/step - loss: 0.7464 - accuracy: 0.6516 - val_loss: 0.9045 - val_accuracy: 0.6386\n",
      "Epoch 20/50\n",
      "67/67 [==============================] - 0s 2ms/step - loss: 0.7533 - accuracy: 0.6621 - val_loss: 0.8637 - val_accuracy: 0.6988\n",
      "Epoch 21/50\n",
      "67/67 [==============================] - 0s 2ms/step - loss: 0.7383 - accuracy: 0.6471 - val_loss: 0.8783 - val_accuracy: 0.6867\n",
      "Epoch 22/50\n",
      "67/67 [==============================] - 0s 2ms/step - loss: 0.7207 - accuracy: 0.6561 - val_loss: 0.9445 - val_accuracy: 0.5964\n",
      "Epoch 23/50\n",
      "67/67 [==============================] - 0s 2ms/step - loss: 0.7267 - accuracy: 0.6591 - val_loss: 0.8735 - val_accuracy: 0.6867\n",
      "Epoch 24/50\n",
      "67/67 [==============================] - 0s 2ms/step - loss: 0.7086 - accuracy: 0.6802 - val_loss: 0.9231 - val_accuracy: 0.6325\n",
      "Epoch 25/50\n",
      "67/67 [==============================] - 0s 2ms/step - loss: 0.7108 - accuracy: 0.6802 - val_loss: 0.9130 - val_accuracy: 0.6867\n",
      "Epoch 26/50\n",
      "67/67 [==============================] - 0s 2ms/step - loss: 0.6898 - accuracy: 0.6742 - val_loss: 0.8980 - val_accuracy: 0.6627\n",
      "Epoch 27/50\n",
      "67/67 [==============================] - 0s 3ms/step - loss: 0.6909 - accuracy: 0.6817 - val_loss: 0.8815 - val_accuracy: 0.6566\n",
      "Epoch 28/50\n",
      "67/67 [==============================] - 0s 3ms/step - loss: 0.7108 - accuracy: 0.6637 - val_loss: 0.9492 - val_accuracy: 0.6325\n",
      "Epoch 29/50\n",
      "67/67 [==============================] - 0s 3ms/step - loss: 0.6686 - accuracy: 0.6938 - val_loss: 0.9250 - val_accuracy: 0.6747\n",
      "Epoch 30/50\n",
      "67/67 [==============================] - 0s 2ms/step - loss: 0.6747 - accuracy: 0.6863 - val_loss: 0.8984 - val_accuracy: 0.6747\n",
      "Epoch 31/50\n",
      "67/67 [==============================] - 0s 2ms/step - loss: 0.6302 - accuracy: 0.7044 - val_loss: 0.9505 - val_accuracy: 0.6506\n",
      "Epoch 32/50\n",
      "67/67 [==============================] - 0s 2ms/step - loss: 0.6549 - accuracy: 0.7104 - val_loss: 1.0016 - val_accuracy: 0.6265\n",
      "Epoch 33/50\n",
      "67/67 [==============================] - 0s 2ms/step - loss: 0.6525 - accuracy: 0.6953 - val_loss: 0.9126 - val_accuracy: 0.6566\n",
      "Epoch 34/50\n",
      "67/67 [==============================] - 0s 2ms/step - loss: 0.6282 - accuracy: 0.7044 - val_loss: 0.9286 - val_accuracy: 0.6446\n",
      "Epoch 35/50\n",
      "67/67 [==============================] - 0s 2ms/step - loss: 0.6424 - accuracy: 0.7074 - val_loss: 0.9389 - val_accuracy: 0.6325\n",
      "Epoch 36/50\n",
      "67/67 [==============================] - 0s 2ms/step - loss: 0.6174 - accuracy: 0.7014 - val_loss: 0.9757 - val_accuracy: 0.6205\n",
      "Epoch 37/50\n",
      "67/67 [==============================] - 0s 2ms/step - loss: 0.5907 - accuracy: 0.7376 - val_loss: 1.0754 - val_accuracy: 0.6145\n",
      "Epoch 38/50\n",
      "67/67 [==============================] - 0s 2ms/step - loss: 0.5919 - accuracy: 0.7451 - val_loss: 0.9920 - val_accuracy: 0.5904\n",
      "Epoch 39/50\n",
      "67/67 [==============================] - 0s 2ms/step - loss: 0.5790 - accuracy: 0.7300 - val_loss: 1.0331 - val_accuracy: 0.6386\n",
      "Epoch 40/50\n",
      "67/67 [==============================] - 0s 2ms/step - loss: 0.5721 - accuracy: 0.7406 - val_loss: 0.9974 - val_accuracy: 0.6205\n",
      "Epoch 41/50\n",
      "67/67 [==============================] - 0s 2ms/step - loss: 0.6129 - accuracy: 0.7164 - val_loss: 0.9586 - val_accuracy: 0.6446\n",
      "Epoch 42/50\n",
      "67/67 [==============================] - 0s 2ms/step - loss: 0.5832 - accuracy: 0.7602 - val_loss: 0.9730 - val_accuracy: 0.6446\n",
      "Epoch 43/50\n",
      "67/67 [==============================] - 0s 2ms/step - loss: 0.5528 - accuracy: 0.7602 - val_loss: 0.9998 - val_accuracy: 0.6446\n",
      "Epoch 44/50\n",
      "67/67 [==============================] - 0s 2ms/step - loss: 0.5429 - accuracy: 0.7617 - val_loss: 1.0125 - val_accuracy: 0.6747\n",
      "Epoch 45/50\n",
      "67/67 [==============================] - 0s 2ms/step - loss: 0.5631 - accuracy: 0.7406 - val_loss: 0.9604 - val_accuracy: 0.6807\n",
      "Epoch 46/50\n",
      "67/67 [==============================] - 0s 2ms/step - loss: 0.5506 - accuracy: 0.7526 - val_loss: 1.1030 - val_accuracy: 0.6265\n",
      "Epoch 47/50\n",
      "67/67 [==============================] - 0s 2ms/step - loss: 0.5483 - accuracy: 0.7360 - val_loss: 1.0217 - val_accuracy: 0.6506\n",
      "Epoch 48/50\n",
      "67/67 [==============================] - 0s 2ms/step - loss: 0.5448 - accuracy: 0.7511 - val_loss: 1.0260 - val_accuracy: 0.6325\n",
      "Epoch 49/50\n",
      "67/67 [==============================] - 0s 2ms/step - loss: 0.5425 - accuracy: 0.7602 - val_loss: 1.0364 - val_accuracy: 0.6386\n",
      "Epoch 50/50\n",
      "67/67 [==============================] - 0s 2ms/step - loss: 0.5454 - accuracy: 0.7647 - val_loss: 1.0700 - val_accuracy: 0.6205\n"
     ]
    }
   ],
   "source": [
    "model = Sequential()\n",
    "\n",
    "model.add(tf.keras.Input(shape =(9)))\n",
    "\n",
    "model.add(Dense(124,activation = 'relu'))\n",
    "model.add(Dropout(0.2))\n",
    "model.add(Dense(124,activation = 'relu'))\n",
    "model.add(Dropout(0.2))\n",
    "model.add(Dense(528,activation = 'relu'))\n",
    "model.add(Dropout(0.2))\n",
    "model.add(Dense(124,activation = 'relu'))\n",
    "model.add(Dropout(0.2))\n",
    "model.add(Dense(10,activation ='softmax'))\n",
    "\n",
    "model.compile(loss =tf.keras.losses.SparseCategoricalCrossentropy(\n",
    "    from_logits=False, reduction=\"auto\", name=\"sparse_categorical_crossentropy\"\n",
    "),optimizer ='adam',metrics = 'accuracy')\n",
    "\n",
    "epok = 50\n",
    "\n",
    "training_history = model.fit(X_train_scaled,y_train,validation_data=(X_test_scaled,y_test),batch_size =10,epochs = epok)\n"
   ]
  },
  {
   "cell_type": "code",
   "execution_count": 35,
   "id": "00628b2a",
   "metadata": {},
   "outputs": [
    {
     "data": {
      "image/png": "[encoded data removed]",
      "text/plain": [
       "<Figure size 432x288 with 1 Axes>"
      ]
     },
     "metadata": {
      "needs_background": "light"
     },
     "output_type": "display_data"
    }
   ],
   "source": [
    "train_acc = training_history.history['accuracy']\n",
    "val_acc = training_history.history['val_accuracy']\n",
    "\n",
    "plt.xlabel('Epochs')\n",
    "plt.ylabel('Accuracy')\n",
    "\n",
    "plt.plot(np.arange(1,epok +1,1),training_history.history['accuracy'], label='Training Accuracy', color='blue')\n",
    "plt.plot(np.arange(1,epok +1,1),training_history.history['val_accuracy'], label='Validation Accuracy', color='red')\n",
    "\n",
    "plt.legend()\n",
    "\n",
    "plt.show()"
   ]
  },
  {
   "cell_type": "markdown",
   "id": "528647bd",
   "metadata": {},
   "source": [
    "Un score si bas s'explique peut-être par la mauvaise définition de la variable \"quality\" ?"
   ]
  },
  {
   "cell_type": "markdown",
   "id": "20bae65f",
   "metadata": {},
   "source": [
    "## Seconde APPROCHE "
   ]
  },
  {
   "cell_type": "markdown",
   "id": "0ec10f12",
   "metadata": {},
   "source": [
    "On va \" laisser \" le jeu de donnée définir le nombre de catégorie pertinente, par clustering"
   ]
  },
  {
   "cell_type": "markdown",
   "id": "d7ad4a20",
   "metadata": {},
   "source": [
    "Il nous faut en premier lieu déterminer le nombre optimal de cluster"
   ]
  },
  {
   "cell_type": "code",
   "execution_count": 36,
   "id": "e59ceb72",
   "metadata": {},
   "outputs": [],
   "source": [
    "range_n_clusters =[2,3,4,5,6,7]\n",
    "s_scores =[]\n",
    "\n",
    "for n_cluster in range_n_clusters:\n",
    "    cluster = AgglomerativeClustering(n_clusters = n_cluster)\n",
    "    cluster.fit(features)\n",
    "    labels = cluster.labels_\n",
    "    s_score = silhouette_score(df,labels,metric ='euclidean')\n",
    "    s_scores.append(s_score)"
   ]
  },
  {
   "cell_type": "code",
   "execution_count": 37,
   "id": "8d24cea0",
   "metadata": {},
   "outputs": [
    {
     "data": {
      "text/plain": [
       "[<matplotlib.lines.Line2D at 0x665c6190>]"
      ]
     },
     "execution_count": 37,
     "metadata": {},
     "output_type": "execute_result"
    },
    {
     "data": {
      "image/png": "[encoded data removed]",
      "text/plain": [
       "<Figure size 432x288 with 1 Axes>"
      ]
     },
     "metadata": {
      "needs_background": "light"
     },
     "output_type": "display_data"
    }
   ],
   "source": [
    "plt.plot(range_n_clusters,s_scores)"
   ]
  },
  {
   "cell_type": "markdown",
   "id": "d0eef071",
   "metadata": {},
   "source": [
    "Il apparait que 2 semble un nombre optimal de classe pour ce problème. "
   ]
  },
  {
   "cell_type": "markdown",
   "id": "d2cd5868",
   "metadata": {},
   "source": [
    "On procède à une classification non supervisée de sorte à produire une nouvelle variable 'LABEL' que l'on associera au jeu de donnée"
   ]
  },
  {
   "cell_type": "code",
   "execution_count": 38,
   "id": "d37a9d6c",
   "metadata": {},
   "outputs": [
    {
     "data": {
      "text/html": [
       "<div>\n",
       "<style scoped>\n",
       "    .dataframe tbody tr th:only-of-type {\n",
       "        vertical-align: middle;\n",
       "    }\n",
       "\n",
       "    .dataframe tbody tr th {\n",
       "        vertical-align: top;\n",
       "    }\n",
       "\n",
       "    .dataframe thead th {\n",
       "        text-align: right;\n",
       "    }\n",
       "</style>\n",
       "<table border=\"1\" class=\"dataframe\">\n",
       "  <thead>\n",
       "    <tr style=\"text-align: right;\">\n",
       "      <th></th>\n",
       "      <th>fixed acidity</th>\n",
       "      <th>volatile acidity</th>\n",
       "      <th>citric acid</th>\n",
       "      <th>free sulfur dioxide</th>\n",
       "      <th>total sulfur dioxide</th>\n",
       "      <th>density</th>\n",
       "      <th>pH</th>\n",
       "      <th>sulphates</th>\n",
       "      <th>alcohol</th>\n",
       "      <th>quality</th>\n",
       "      <th>LABEL</th>\n",
       "    </tr>\n",
       "  </thead>\n",
       "  <tbody>\n",
       "    <tr>\n",
       "      <th>0</th>\n",
       "      <td>7.4</td>\n",
       "      <td>0.700</td>\n",
       "      <td>0.00</td>\n",
       "      <td>11.0</td>\n",
       "      <td>34.0</td>\n",
       "      <td>0.99780</td>\n",
       "      <td>3.51</td>\n",
       "      <td>0.56</td>\n",
       "      <td>9.4</td>\n",
       "      <td>5</td>\n",
       "      <td>1</td>\n",
       "    </tr>\n",
       "    <tr>\n",
       "      <th>1</th>\n",
       "      <td>7.8</td>\n",
       "      <td>0.880</td>\n",
       "      <td>0.00</td>\n",
       "      <td>25.0</td>\n",
       "      <td>67.0</td>\n",
       "      <td>0.99680</td>\n",
       "      <td>3.20</td>\n",
       "      <td>0.68</td>\n",
       "      <td>9.8</td>\n",
       "      <td>5</td>\n",
       "      <td>0</td>\n",
       "    </tr>\n",
       "    <tr>\n",
       "      <th>2</th>\n",
       "      <td>7.8</td>\n",
       "      <td>0.760</td>\n",
       "      <td>0.04</td>\n",
       "      <td>15.0</td>\n",
       "      <td>54.0</td>\n",
       "      <td>0.99700</td>\n",
       "      <td>3.26</td>\n",
       "      <td>0.65</td>\n",
       "      <td>9.8</td>\n",
       "      <td>5</td>\n",
       "      <td>0</td>\n",
       "    </tr>\n",
       "    <tr>\n",
       "      <th>3</th>\n",
       "      <td>11.2</td>\n",
       "      <td>0.280</td>\n",
       "      <td>0.56</td>\n",
       "      <td>17.0</td>\n",
       "      <td>60.0</td>\n",
       "      <td>0.99800</td>\n",
       "      <td>3.16</td>\n",
       "      <td>0.58</td>\n",
       "      <td>9.8</td>\n",
       "      <td>6</td>\n",
       "      <td>0</td>\n",
       "    </tr>\n",
       "    <tr>\n",
       "      <th>4</th>\n",
       "      <td>7.4</td>\n",
       "      <td>0.660</td>\n",
       "      <td>0.00</td>\n",
       "      <td>13.0</td>\n",
       "      <td>40.0</td>\n",
       "      <td>0.99780</td>\n",
       "      <td>3.51</td>\n",
       "      <td>0.56</td>\n",
       "      <td>9.4</td>\n",
       "      <td>5</td>\n",
       "      <td>1</td>\n",
       "    </tr>\n",
       "    <tr>\n",
       "      <th>...</th>\n",
       "      <td>...</td>\n",
       "      <td>...</td>\n",
       "      <td>...</td>\n",
       "      <td>...</td>\n",
       "      <td>...</td>\n",
       "      <td>...</td>\n",
       "      <td>...</td>\n",
       "      <td>...</td>\n",
       "      <td>...</td>\n",
       "      <td>...</td>\n",
       "      <td>...</td>\n",
       "    </tr>\n",
       "    <tr>\n",
       "      <th>824</th>\n",
       "      <td>6.3</td>\n",
       "      <td>0.510</td>\n",
       "      <td>0.13</td>\n",
       "      <td>29.0</td>\n",
       "      <td>40.0</td>\n",
       "      <td>0.99574</td>\n",
       "      <td>3.42</td>\n",
       "      <td>0.75</td>\n",
       "      <td>11.0</td>\n",
       "      <td>6</td>\n",
       "      <td>0</td>\n",
       "    </tr>\n",
       "    <tr>\n",
       "      <th>825</th>\n",
       "      <td>6.8</td>\n",
       "      <td>0.620</td>\n",
       "      <td>0.08</td>\n",
       "      <td>28.0</td>\n",
       "      <td>38.0</td>\n",
       "      <td>0.99651</td>\n",
       "      <td>3.42</td>\n",
       "      <td>0.82</td>\n",
       "      <td>9.5</td>\n",
       "      <td>6</td>\n",
       "      <td>0</td>\n",
       "    </tr>\n",
       "    <tr>\n",
       "      <th>826</th>\n",
       "      <td>6.2</td>\n",
       "      <td>0.600</td>\n",
       "      <td>0.08</td>\n",
       "      <td>32.0</td>\n",
       "      <td>44.0</td>\n",
       "      <td>0.99490</td>\n",
       "      <td>3.45</td>\n",
       "      <td>0.58</td>\n",
       "      <td>10.5</td>\n",
       "      <td>5</td>\n",
       "      <td>0</td>\n",
       "    </tr>\n",
       "    <tr>\n",
       "      <th>827</th>\n",
       "      <td>5.9</td>\n",
       "      <td>0.550</td>\n",
       "      <td>0.10</td>\n",
       "      <td>39.0</td>\n",
       "      <td>51.0</td>\n",
       "      <td>0.99512</td>\n",
       "      <td>3.52</td>\n",
       "      <td>0.76</td>\n",
       "      <td>11.2</td>\n",
       "      <td>6</td>\n",
       "      <td>0</td>\n",
       "    </tr>\n",
       "    <tr>\n",
       "      <th>828</th>\n",
       "      <td>5.9</td>\n",
       "      <td>0.645</td>\n",
       "      <td>0.12</td>\n",
       "      <td>32.0</td>\n",
       "      <td>44.0</td>\n",
       "      <td>0.99547</td>\n",
       "      <td>3.57</td>\n",
       "      <td>0.71</td>\n",
       "      <td>10.2</td>\n",
       "      <td>5</td>\n",
       "      <td>0</td>\n",
       "    </tr>\n",
       "  </tbody>\n",
       "</table>\n",
       "<p>829 rows × 11 columns</p>\n",
       "</div>"
      ],
      "text/plain": [
       "     fixed acidity  volatile acidity  citric acid  free sulfur dioxide  \\\n",
       "0              7.4             0.700         0.00                 11.0   \n",
       "1              7.8             0.880         0.00                 25.0   \n",
       "2              7.8             0.760         0.04                 15.0   \n",
       "3             11.2             0.280         0.56                 17.0   \n",
       "4              7.4             0.660         0.00                 13.0   \n",
       "..             ...               ...          ...                  ...   \n",
       "824            6.3             0.510         0.13                 29.0   \n",
       "825            6.8             0.620         0.08                 28.0   \n",
       "826            6.2             0.600         0.08                 32.0   \n",
       "827            5.9             0.550         0.10                 39.0   \n",
       "828            5.9             0.645         0.12                 32.0   \n",
       "\n",
       "     total sulfur dioxide  density    pH  sulphates  alcohol  quality  LABEL  \n",
       "0                    34.0  0.99780  3.51       0.56      9.4        5      1  \n",
       "1                    67.0  0.99680  3.20       0.68      9.8        5      0  \n",
       "2                    54.0  0.99700  3.26       0.65      9.8        5      0  \n",
       "3                    60.0  0.99800  3.16       0.58      9.8        6      0  \n",
       "4                    40.0  0.99780  3.51       0.56      9.4        5      1  \n",
       "..                    ...      ...   ...        ...      ...      ...    ...  \n",
       "824                  40.0  0.99574  3.42       0.75     11.0        6      0  \n",
       "825                  38.0  0.99651  3.42       0.82      9.5        6      0  \n",
       "826                  44.0  0.99490  3.45       0.58     10.5        5      0  \n",
       "827                  51.0  0.99512  3.52       0.76     11.2        6      0  \n",
       "828                  44.0  0.99547  3.57       0.71     10.2        5      0  \n",
       "\n",
       "[829 rows x 11 columns]"
      ]
     },
     "execution_count": 38,
     "metadata": {},
     "output_type": "execute_result"
    }
   ],
   "source": [
    "cluster = AgglomerativeClustering(n_clusters = 2)\n",
    "cluster.fit(features)\n",
    "labels = cluster.labels_\n",
    "\n",
    "LABEL = pd.Series(labels)\n",
    "\n",
    "df_new = pd.concat([df.reset_index().drop(['index'],axis = 1),LABEL],axis=  1).rename(columns={0:'LABEL'})\n",
    "\n",
    "df_new\n"
   ]
  },
  {
   "cell_type": "markdown",
   "id": "6c11bbdd",
   "metadata": {},
   "source": [
    "On prépare à nouveau le jeu de donnée"
   ]
  },
  {
   "cell_type": "code",
   "execution_count": 39,
   "id": "0a7466fe",
   "metadata": {},
   "outputs": [],
   "source": [
    "FEATURES = df_new.drop(['LABEL','quality'],axis = 1)\n",
    "TARGET = df_new['LABEL']\n",
    "\n",
    "X_TRAIN,X_TEST,Y_TRAIN,Y_TEST = train_test_split(FEATURES,TARGET,test_size = 0.2)\n",
    "\n",
    "scaler = preprocessing.StandardScaler().fit(X_TRAIN)\n",
    "X_TRAIN_SCALED = scaler.transform(X_TRAIN)\n",
    "X_TEST_SCALED = scaler.transform(X_TEST)"
   ]
  },
  {
   "cell_type": "code",
   "execution_count": 40,
   "id": "c5b197eb",
   "metadata": {},
   "outputs": [
    {
     "data": {
      "text/html": [
       "<div>\n",
       "<style scoped>\n",
       "    .dataframe tbody tr th:only-of-type {\n",
       "        vertical-align: middle;\n",
       "    }\n",
       "\n",
       "    .dataframe tbody tr th {\n",
       "        vertical-align: top;\n",
       "    }\n",
       "\n",
       "    .dataframe thead th {\n",
       "        text-align: right;\n",
       "    }\n",
       "</style>\n",
       "<table border=\"1\" class=\"dataframe\">\n",
       "  <thead>\n",
       "    <tr style=\"text-align: right;\">\n",
       "      <th></th>\n",
       "      <th>fixed acidity</th>\n",
       "      <th>volatile acidity</th>\n",
       "      <th>citric acid</th>\n",
       "      <th>free sulfur dioxide</th>\n",
       "      <th>total sulfur dioxide</th>\n",
       "      <th>density</th>\n",
       "      <th>pH</th>\n",
       "      <th>sulphates</th>\n",
       "      <th>alcohol</th>\n",
       "    </tr>\n",
       "  </thead>\n",
       "  <tbody>\n",
       "    <tr>\n",
       "      <th>0</th>\n",
       "      <td>7.4</td>\n",
       "      <td>0.700</td>\n",
       "      <td>0.00</td>\n",
       "      <td>11.0</td>\n",
       "      <td>34.0</td>\n",
       "      <td>0.99780</td>\n",
       "      <td>3.51</td>\n",
       "      <td>0.56</td>\n",
       "      <td>9.4</td>\n",
       "    </tr>\n",
       "    <tr>\n",
       "      <th>1</th>\n",
       "      <td>7.8</td>\n",
       "      <td>0.880</td>\n",
       "      <td>0.00</td>\n",
       "      <td>25.0</td>\n",
       "      <td>67.0</td>\n",
       "      <td>0.99680</td>\n",
       "      <td>3.20</td>\n",
       "      <td>0.68</td>\n",
       "      <td>9.8</td>\n",
       "    </tr>\n",
       "    <tr>\n",
       "      <th>2</th>\n",
       "      <td>7.8</td>\n",
       "      <td>0.760</td>\n",
       "      <td>0.04</td>\n",
       "      <td>15.0</td>\n",
       "      <td>54.0</td>\n",
       "      <td>0.99700</td>\n",
       "      <td>3.26</td>\n",
       "      <td>0.65</td>\n",
       "      <td>9.8</td>\n",
       "    </tr>\n",
       "    <tr>\n",
       "      <th>3</th>\n",
       "      <td>11.2</td>\n",
       "      <td>0.280</td>\n",
       "      <td>0.56</td>\n",
       "      <td>17.0</td>\n",
       "      <td>60.0</td>\n",
       "      <td>0.99800</td>\n",
       "      <td>3.16</td>\n",
       "      <td>0.58</td>\n",
       "      <td>9.8</td>\n",
       "    </tr>\n",
       "    <tr>\n",
       "      <th>4</th>\n",
       "      <td>7.4</td>\n",
       "      <td>0.660</td>\n",
       "      <td>0.00</td>\n",
       "      <td>13.0</td>\n",
       "      <td>40.0</td>\n",
       "      <td>0.99780</td>\n",
       "      <td>3.51</td>\n",
       "      <td>0.56</td>\n",
       "      <td>9.4</td>\n",
       "    </tr>\n",
       "    <tr>\n",
       "      <th>...</th>\n",
       "      <td>...</td>\n",
       "      <td>...</td>\n",
       "      <td>...</td>\n",
       "      <td>...</td>\n",
       "      <td>...</td>\n",
       "      <td>...</td>\n",
       "      <td>...</td>\n",
       "      <td>...</td>\n",
       "      <td>...</td>\n",
       "    </tr>\n",
       "    <tr>\n",
       "      <th>824</th>\n",
       "      <td>6.3</td>\n",
       "      <td>0.510</td>\n",
       "      <td>0.13</td>\n",
       "      <td>29.0</td>\n",
       "      <td>40.0</td>\n",
       "      <td>0.99574</td>\n",
       "      <td>3.42</td>\n",
       "      <td>0.75</td>\n",
       "      <td>11.0</td>\n",
       "    </tr>\n",
       "    <tr>\n",
       "      <th>825</th>\n",
       "      <td>6.8</td>\n",
       "      <td>0.620</td>\n",
       "      <td>0.08</td>\n",
       "      <td>28.0</td>\n",
       "      <td>38.0</td>\n",
       "      <td>0.99651</td>\n",
       "      <td>3.42</td>\n",
       "      <td>0.82</td>\n",
       "      <td>9.5</td>\n",
       "    </tr>\n",
       "    <tr>\n",
       "      <th>826</th>\n",
       "      <td>6.2</td>\n",
       "      <td>0.600</td>\n",
       "      <td>0.08</td>\n",
       "      <td>32.0</td>\n",
       "      <td>44.0</td>\n",
       "      <td>0.99490</td>\n",
       "      <td>3.45</td>\n",
       "      <td>0.58</td>\n",
       "      <td>10.5</td>\n",
       "    </tr>\n",
       "    <tr>\n",
       "      <th>827</th>\n",
       "      <td>5.9</td>\n",
       "      <td>0.550</td>\n",
       "      <td>0.10</td>\n",
       "      <td>39.0</td>\n",
       "      <td>51.0</td>\n",
       "      <td>0.99512</td>\n",
       "      <td>3.52</td>\n",
       "      <td>0.76</td>\n",
       "      <td>11.2</td>\n",
       "    </tr>\n",
       "    <tr>\n",
       "      <th>828</th>\n",
       "      <td>5.9</td>\n",
       "      <td>0.645</td>\n",
       "      <td>0.12</td>\n",
       "      <td>32.0</td>\n",
       "      <td>44.0</td>\n",
       "      <td>0.99547</td>\n",
       "      <td>3.57</td>\n",
       "      <td>0.71</td>\n",
       "      <td>10.2</td>\n",
       "    </tr>\n",
       "  </tbody>\n",
       "</table>\n",
       "<p>829 rows × 9 columns</p>\n",
       "</div>"
      ],
      "text/plain": [
       "     fixed acidity  volatile acidity  citric acid  free sulfur dioxide  \\\n",
       "0              7.4             0.700         0.00                 11.0   \n",
       "1              7.8             0.880         0.00                 25.0   \n",
       "2              7.8             0.760         0.04                 15.0   \n",
       "3             11.2             0.280         0.56                 17.0   \n",
       "4              7.4             0.660         0.00                 13.0   \n",
       "..             ...               ...          ...                  ...   \n",
       "824            6.3             0.510         0.13                 29.0   \n",
       "825            6.8             0.620         0.08                 28.0   \n",
       "826            6.2             0.600         0.08                 32.0   \n",
       "827            5.9             0.550         0.10                 39.0   \n",
       "828            5.9             0.645         0.12                 32.0   \n",
       "\n",
       "     total sulfur dioxide  density    pH  sulphates  alcohol  \n",
       "0                    34.0  0.99780  3.51       0.56      9.4  \n",
       "1                    67.0  0.99680  3.20       0.68      9.8  \n",
       "2                    54.0  0.99700  3.26       0.65      9.8  \n",
       "3                    60.0  0.99800  3.16       0.58      9.8  \n",
       "4                    40.0  0.99780  3.51       0.56      9.4  \n",
       "..                    ...      ...   ...        ...      ...  \n",
       "824                  40.0  0.99574  3.42       0.75     11.0  \n",
       "825                  38.0  0.99651  3.42       0.82      9.5  \n",
       "826                  44.0  0.99490  3.45       0.58     10.5  \n",
       "827                  51.0  0.99512  3.52       0.76     11.2  \n",
       "828                  44.0  0.99547  3.57       0.71     10.2  \n",
       "\n",
       "[829 rows x 9 columns]"
      ]
     },
     "execution_count": 40,
     "metadata": {},
     "output_type": "execute_result"
    }
   ],
   "source": [
    "FEATURES"
   ]
  },
  {
   "cell_type": "markdown",
   "id": "a73dea66",
   "metadata": {},
   "source": [
    "On essaie à nouveau un modèle de régression logistique"
   ]
  },
  {
   "cell_type": "code",
   "execution_count": 41,
   "id": "bee93c34",
   "metadata": {},
   "outputs": [
    {
     "data": {
      "text/plain": [
       "0.9578313253012049"
      ]
     },
     "execution_count": 41,
     "metadata": {},
     "output_type": "execute_result"
    }
   ],
   "source": [
    "LOGREG = LogisticRegression()\n",
    "LOGREG.fit(X_TRAIN_SCALED,Y_TRAIN)\n",
    "LOGREG.score(X_TEST_SCALED,Y_TEST)"
   ]
  },
  {
   "cell_type": "code",
   "execution_count": 42,
   "id": "67f73482",
   "metadata": {},
   "outputs": [
    {
     "name": "stdout",
     "output_type": "stream",
     "text": [
      "Epoch 1/50\n",
      "67/67 [==============================] - 1s 6ms/step - loss: 0.2560 - binary_accuracy: 0.8808 - val_loss: 0.0812 - val_binary_accuracy: 0.9759\n",
      "Epoch 2/50\n",
      "67/67 [==============================] - 0s 2ms/step - loss: 0.1032 - binary_accuracy: 0.9563 - val_loss: 0.0779 - val_binary_accuracy: 0.9639\n",
      "Epoch 3/50\n",
      "67/67 [==============================] - 0s 2ms/step - loss: 0.0736 - binary_accuracy: 0.9638 - val_loss: 0.1372 - val_binary_accuracy: 0.9458\n",
      "Epoch 4/50\n",
      "67/67 [==============================] - 0s 2ms/step - loss: 0.0843 - binary_accuracy: 0.9713 - val_loss: 0.0702 - val_binary_accuracy: 0.9639\n",
      "Epoch 5/50\n",
      "67/67 [==============================] - 0s 2ms/step - loss: 0.0585 - binary_accuracy: 0.9744 - val_loss: 0.0630 - val_binary_accuracy: 0.9699\n",
      "Epoch 6/50\n",
      "67/67 [==============================] - 0s 2ms/step - loss: 0.0531 - binary_accuracy: 0.9789 - val_loss: 0.0661 - val_binary_accuracy: 0.9699\n",
      "Epoch 7/50\n",
      "67/67 [==============================] - 0s 2ms/step - loss: 0.0627 - binary_accuracy: 0.9774 - val_loss: 0.0383 - val_binary_accuracy: 0.9880\n",
      "Epoch 8/50\n",
      "67/67 [==============================] - 0s 2ms/step - loss: 0.0366 - binary_accuracy: 0.9819 - val_loss: 0.0809 - val_binary_accuracy: 0.9639\n",
      "Epoch 9/50\n",
      "67/67 [==============================] - 0s 2ms/step - loss: 0.0279 - binary_accuracy: 0.9910 - val_loss: 0.0423 - val_binary_accuracy: 0.9880\n",
      "Epoch 10/50\n",
      "67/67 [==============================] - 0s 2ms/step - loss: 0.0367 - binary_accuracy: 0.9864 - val_loss: 0.0301 - val_binary_accuracy: 0.9880\n",
      "Epoch 11/50\n",
      "67/67 [==============================] - 0s 2ms/step - loss: 0.0388 - binary_accuracy: 0.9834 - val_loss: 0.0514 - val_binary_accuracy: 0.9880\n",
      "Epoch 12/50\n",
      "67/67 [==============================] - 0s 2ms/step - loss: 0.0343 - binary_accuracy: 0.9910 - val_loss: 0.0460 - val_binary_accuracy: 0.9759\n",
      "Epoch 13/50\n",
      "67/67 [==============================] - 0s 2ms/step - loss: 0.0317 - binary_accuracy: 0.9925 - val_loss: 0.1267 - val_binary_accuracy: 0.9458\n",
      "Epoch 14/50\n",
      "67/67 [==============================] - 0s 2ms/step - loss: 0.0486 - binary_accuracy: 0.9849 - val_loss: 0.0466 - val_binary_accuracy: 0.9819\n",
      "Epoch 15/50\n",
      "67/67 [==============================] - 0s 2ms/step - loss: 0.0235 - binary_accuracy: 0.9925 - val_loss: 0.0559 - val_binary_accuracy: 0.9819\n",
      "Epoch 16/50\n",
      "67/67 [==============================] - 0s 2ms/step - loss: 0.0336 - binary_accuracy: 0.9864 - val_loss: 0.1287 - val_binary_accuracy: 0.9639\n",
      "Epoch 17/50\n",
      "67/67 [==============================] - 0s 2ms/step - loss: 0.0263 - binary_accuracy: 0.9925 - val_loss: 0.0640 - val_binary_accuracy: 0.9699\n",
      "Epoch 18/50\n",
      "67/67 [==============================] - 0s 2ms/step - loss: 0.0424 - binary_accuracy: 0.9864 - val_loss: 0.0491 - val_binary_accuracy: 0.9759\n",
      "Epoch 19/50\n",
      "67/67 [==============================] - 0s 2ms/step - loss: 0.0247 - binary_accuracy: 0.9910 - val_loss: 0.0636 - val_binary_accuracy: 0.9880\n",
      "Epoch 20/50\n",
      "67/67 [==============================] - 0s 2ms/step - loss: 0.0218 - binary_accuracy: 0.9910 - val_loss: 0.0672 - val_binary_accuracy: 0.9759\n",
      "Epoch 21/50\n",
      "67/67 [==============================] - 0s 2ms/step - loss: 0.0213 - binary_accuracy: 0.9955 - val_loss: 0.0545 - val_binary_accuracy: 0.9880\n",
      "Epoch 22/50\n",
      "67/67 [==============================] - 0s 2ms/step - loss: 0.0158 - binary_accuracy: 0.9970 - val_loss: 0.0504 - val_binary_accuracy: 0.9880\n",
      "Epoch 23/50\n",
      "67/67 [==============================] - 0s 2ms/step - loss: 0.0165 - binary_accuracy: 0.9955 - val_loss: 0.0986 - val_binary_accuracy: 0.9759\n",
      "Epoch 24/50\n",
      "67/67 [==============================] - 0s 2ms/step - loss: 0.0335 - binary_accuracy: 0.9879 - val_loss: 0.0666 - val_binary_accuracy: 0.9759\n",
      "Epoch 25/50\n",
      "67/67 [==============================] - 0s 2ms/step - loss: 0.0122 - binary_accuracy: 0.9940 - val_loss: 0.1066 - val_binary_accuracy: 0.9699\n",
      "Epoch 26/50\n",
      "67/67 [==============================] - 0s 2ms/step - loss: 0.0109 - binary_accuracy: 0.9970 - val_loss: 0.1064 - val_binary_accuracy: 0.9759\n",
      "Epoch 27/50\n",
      "67/67 [==============================] - 0s 2ms/step - loss: 0.0106 - binary_accuracy: 0.9955 - val_loss: 0.1225 - val_binary_accuracy: 0.9699\n",
      "Epoch 28/50\n",
      "67/67 [==============================] - 0s 2ms/step - loss: 0.0157 - binary_accuracy: 0.9970 - val_loss: 0.0728 - val_binary_accuracy: 0.9759\n",
      "Epoch 29/50\n",
      "67/67 [==============================] - 0s 2ms/step - loss: 0.0132 - binary_accuracy: 0.9940 - val_loss: 0.0847 - val_binary_accuracy: 0.9699\n",
      "Epoch 30/50\n",
      "67/67 [==============================] - 0s 2ms/step - loss: 0.0204 - binary_accuracy: 0.9925 - val_loss: 0.0297 - val_binary_accuracy: 0.9880\n",
      "Epoch 31/50\n",
      "67/67 [==============================] - 0s 2ms/step - loss: 0.0260 - binary_accuracy: 0.9910 - val_loss: 0.0278 - val_binary_accuracy: 0.9880\n",
      "Epoch 32/50\n",
      "67/67 [==============================] - 0s 2ms/step - loss: 0.0209 - binary_accuracy: 0.9925 - val_loss: 0.0529 - val_binary_accuracy: 0.9819\n",
      "Epoch 33/50\n",
      "67/67 [==============================] - 0s 2ms/step - loss: 0.0080 - binary_accuracy: 0.9985 - val_loss: 0.0442 - val_binary_accuracy: 0.9819\n",
      "Epoch 34/50\n",
      "67/67 [==============================] - 0s 2ms/step - loss: 0.0067 - binary_accuracy: 0.9985 - val_loss: 0.0646 - val_binary_accuracy: 0.9819\n",
      "Epoch 35/50\n",
      "67/67 [==============================] - 0s 2ms/step - loss: 0.0400 - binary_accuracy: 0.9864 - val_loss: 0.1260 - val_binary_accuracy: 0.9639\n",
      "Epoch 36/50\n",
      "67/67 [==============================] - 0s 2ms/step - loss: 0.0148 - binary_accuracy: 0.9940 - val_loss: 0.0680 - val_binary_accuracy: 0.9759\n",
      "Epoch 37/50\n",
      "67/67 [==============================] - 0s 2ms/step - loss: 0.0248 - binary_accuracy: 0.9925 - val_loss: 0.0409 - val_binary_accuracy: 0.9880\n",
      "Epoch 38/50\n",
      "67/67 [==============================] - 0s 2ms/step - loss: 0.0054 - binary_accuracy: 0.9985 - val_loss: 0.0746 - val_binary_accuracy: 0.9639\n",
      "Epoch 39/50\n",
      "67/67 [==============================] - 0s 2ms/step - loss: 0.0080 - binary_accuracy: 0.9955 - val_loss: 0.0516 - val_binary_accuracy: 0.9759\n",
      "Epoch 40/50\n",
      "67/67 [==============================] - 0s 2ms/step - loss: 0.0130 - binary_accuracy: 0.9955 - val_loss: 0.1100 - val_binary_accuracy: 0.9759\n",
      "Epoch 41/50\n",
      "67/67 [==============================] - 0s 2ms/step - loss: 0.0079 - binary_accuracy: 0.9970 - val_loss: 0.0562 - val_binary_accuracy: 0.9759\n",
      "Epoch 42/50\n",
      "67/67 [==============================] - 0s 2ms/step - loss: 0.0147 - binary_accuracy: 0.9955 - val_loss: 0.0824 - val_binary_accuracy: 0.9699\n",
      "Epoch 43/50\n",
      "67/67 [==============================] - 0s 2ms/step - loss: 0.0068 - binary_accuracy: 0.9985 - val_loss: 0.0903 - val_binary_accuracy: 0.9759\n",
      "Epoch 44/50\n",
      "67/67 [==============================] - 0s 2ms/step - loss: 0.0214 - binary_accuracy: 0.9955 - val_loss: 0.0464 - val_binary_accuracy: 0.9759\n",
      "Epoch 45/50\n",
      "67/67 [==============================] - 0s 2ms/step - loss: 0.0055 - binary_accuracy: 0.9985 - val_loss: 0.0438 - val_binary_accuracy: 0.9819\n",
      "Epoch 46/50\n",
      "67/67 [==============================] - 0s 2ms/step - loss: 0.0040 - binary_accuracy: 0.9970 - val_loss: 0.0648 - val_binary_accuracy: 0.9819\n",
      "Epoch 47/50\n",
      "67/67 [==============================] - 0s 2ms/step - loss: 0.0255 - binary_accuracy: 0.9910 - val_loss: 0.0411 - val_binary_accuracy: 0.9819\n",
      "Epoch 48/50\n",
      "67/67 [==============================] - 0s 2ms/step - loss: 0.0085 - binary_accuracy: 0.9970 - val_loss: 0.0583 - val_binary_accuracy: 0.9759\n",
      "Epoch 49/50\n",
      "67/67 [==============================] - 0s 2ms/step - loss: 0.0066 - binary_accuracy: 0.9970 - val_loss: 0.0660 - val_binary_accuracy: 0.9759\n",
      "Epoch 50/50\n",
      "67/67 [==============================] - 0s 2ms/step - loss: 0.0055 - binary_accuracy: 0.9985 - val_loss: 0.0651 - val_binary_accuracy: 0.9759\n"
     ]
    }
   ],
   "source": [
    "MODEL = Sequential()\n",
    "\n",
    "MODEL.add(tf.keras.Input(shape =(9)))\n",
    "\n",
    "MODEL.add(Dense(124,activation = 'relu'))\n",
    "MODEL.add(Dropout(0.2))\n",
    "MODEL.add(Dense(124,activation = 'relu'))\n",
    "MODEL.add(Dropout(0.2))\n",
    "MODEL.add(Dense(528,activation = 'relu'))\n",
    "MODEL.add(Dropout(0.2))\n",
    "MODEL.add(Dense(124,activation = 'relu'))\n",
    "MODEL.add(Dropout(0.2))\n",
    "MODEL.add(Dense(1,activation ='sigmoid'))\n",
    "\n",
    "MODEL.compile(loss =\"binary_crossentropy\",optimizer ='adam',metrics = 'binary_accuracy')\n",
    "\n",
    "epok = 50\n",
    "\n",
    "training_history = MODEL.fit(X_TRAIN_SCALED,Y_TRAIN,validation_data=(X_TEST_SCALED,Y_TEST),batch_size =10,epochs = epok)\n"
   ]
  },
  {
   "cell_type": "code",
   "execution_count": 43,
   "id": "3c377241",
   "metadata": {},
   "outputs": [
    {
     "data": {
      "image/png": "[encoded data removed]",
      "text/plain": [
       "<Figure size 432x288 with 1 Axes>"
      ]
     },
     "metadata": {
      "needs_background": "light"
     },
     "output_type": "display_data"
    }
   ],
   "source": [
    "train_acc = training_history.history['binary_accuracy']\n",
    "val_acc = training_history.history['val_binary_accuracy']\n",
    "\n",
    "plt.xlabel('Epochs')\n",
    "plt.ylabel('Accuracy')\n",
    "\n",
    "plt.plot(np.arange(1,epok +1,1),training_history.history['binary_accuracy'], label='Training Accuracy', color='blue')\n",
    "plt.plot(np.arange(1,epok +1,1),training_history.history['val_binary_accuracy'], label='Validation Accuracy', color='red')\n",
    "\n",
    "plt.legend()\n",
    "\n",
    "plt.show()"
   ]
  },
  {
   "cell_type": "markdown",
   "id": "c84d9bd3",
   "metadata": {},
   "source": [
    "Il semble que l'on a gagné à utiliser une nouvelle variable LABEL avec seulement deux classes. Il pourrait être objecté que cette variable LABEL ne se base sur rien de concret mais ce serait occulter le fait que:"
   ]
  },
  {
   "cell_type": "markdown",
   "id": "21bf4031",
   "metadata": {},
   "source": [
    "- d'une part la variable 'quality' ne présente elle aussi pas de justification à priori \n",
    "- d'autre part la variable 'LABEL' a été générée à partir du jeu de donnée, suite à la recherche du meilleur nombre de classe."
   ]
  },
  {
   "cell_type": "markdown",
   "id": "3f77bb5b",
   "metadata": {},
   "source": [
    "Si l'on fait varier le nombre de classe de LABEL, on baisse invariablement en score ce qui tend à démontrer la pertinence de la démarche"
   ]
  },
  {
   "cell_type": "code",
   "execution_count": 46,
   "id": "70ca8d04",
   "metadata": {},
   "outputs": [],
   "source": [
    "\n",
    "score =[]\n",
    "\n",
    "for i in range(2,10):\n",
    "    cluster = AgglomerativeClustering(n_clusters = i)\n",
    "    cluster.fit(features)\n",
    "    labels = cluster.labels_\n",
    "    LABEL = pd.Series(labels)\n",
    "    df_new = pd.concat([df.reset_index().drop(['index'],axis = 1),LABEL],axis=  1).rename(columns={0:'LABEL'})\n",
    "\n",
    "    FEATURES = df_new.drop(['LABEL','quality'],axis = 1)\n",
    "    TARGET = df_new['LABEL']\n",
    "\n",
    "    X_TRAIN,X_TEST,Y_TRAIN,Y_TEST = train_test_split(FEATURES,TARGET,test_size = 0.2)\n",
    "\n",
    "    scaler = preprocessing.StandardScaler().fit(X_TRAIN)\n",
    "    X_TRAIN_SCALED = scaler.transform(X_TRAIN)\n",
    "    X_TEST_SCALED = scaler.transform(X_TEST)\n",
    "\n",
    "    LOGREG = LogisticRegression()\n",
    "    LOGREG.fit(X_TRAIN_SCALED,Y_TRAIN)\n",
    "    score.append(LOGREG.score(X_TEST_SCALED,Y_TEST))"
   ]
  },
  {
   "cell_type": "code",
   "execution_count": 47,
   "id": "c9f39bf5",
   "metadata": {},
   "outputs": [
    {
     "data": {
      "image/png": "[encoded data removed]",
      "text/plain": [
       "<Figure size 432x288 with 1 Axes>"
      ]
     },
     "metadata": {
      "needs_background": "light"
     },
     "output_type": "display_data"
    }
   ],
   "source": [
    "plt.plot([i for i in range(2,10)],score,label ='Score')\n",
    "plt.title('Evolution du score de precision en fonction du nombre de cluster')\n",
    "plt.xlabel('Nombre de cluster')\n",
    "plt.ylabel('Score')\n",
    "plt.show()"
   ]
  },
  {
   "cell_type": "markdown",
   "id": "5167b525",
   "metadata": {},
   "source": [
    "Il est possible de tolérer moins de précision, via l'augmentation du nombre de classe si cela se traduit par une amélioration du chiffre de vente, eu égard à la proposition de fourchette de prix par label correspondant à plusieurs types de consommateurs."
   ]
  },
  {
   "cell_type": "markdown",
   "id": "60f04e26",
   "metadata": {},
   "source": [
    "In fine, les classes de \"LABEL\" vont regrouper des vins dont le gout va dépendre de l'ensemble des variables proposées. Il est attendu que le fait d'avoir regroupé les vins en utilisant l'algorithme est plus pertinent en terme de gout et de variabilité de gout que si cela avait été réalisé manuellement sur la base d'une ou deux variables. "
   ]
  },
  {
   "cell_type": "markdown",
   "id": "cb54d54f",
   "metadata": {},
   "source": [
    "Il eut été intéressant de fournir les noms des vins de façon à soumettre à des connaisseurs les regroupements proposés. "
   ]
  }
 ],
 "metadata": {
  "kernelspec": {
   "display_name": "Python 3",
   "language": "python",
   "name": "python3"
  },
  "language_info": {
   "codemirror_mode": {
    "name": "ipython",
    "version": 3
   },
   "file_extension": ".py",
   "mimetype": "text/x-python",
   "name": "python",
   "nbconvert_exporter": "python",
   "pygments_lexer": "ipython3",
   "version": "3.8.8"
  }
 },
 "nbformat": 4,
 "nbformat_minor": 5
}
