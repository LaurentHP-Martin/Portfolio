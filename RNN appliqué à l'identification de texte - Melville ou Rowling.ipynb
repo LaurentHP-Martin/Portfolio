{
 "cells": [
  {
   "cell_type": "markdown",
   "id": "f1434b6a",
   "metadata": {},
   "source": [
    "## Abstract"
   ]
  },
  {
   "cell_type": "markdown",
   "id": "e025709d",
   "metadata": {},
   "source": [
    "Prédire à quelle oeuvre A ou B  appartient une phrase donnée, voilà le sujet de ce notebook. On aura pris soin de choisir des oeuvres présentant un niveau de langue différent avec pour l'oeuvre A: Moby Dick de Melville et l'oeuvre B : Harry Potter de J.K Rowling. "
   ]
  },
  {
   "cell_type": "markdown",
   "id": "c54881ef",
   "metadata": {},
   "source": [
    "## Résultat"
   ]
  },
  {
   "cell_type": "markdown",
   "id": "0d001f86",
   "metadata": {},
   "source": [
    "Le modèle permet de classifier correctement une phrase prise au hasard du jeu de validation 96 fois sur 100."
   ]
  },
  {
   "cell_type": "markdown",
   "id": "dfb9bb72",
   "metadata": {},
   "source": [
    "### Bibliothèqes utilisées <a class=\"anchor\" id=\"chapter1\"></a>"
   ]
  },
  {
   "cell_type": "code",
   "execution_count": 1,
   "id": "4b537556",
   "metadata": {},
   "outputs": [],
   "source": [
    "# Générique data project\n",
    "import pandas as pd\n",
    "import numpy as np\n",
    "import matplotlib.pyplot as plt\n",
    "import seaborn as sns\n",
    "\n",
    "# Pour la manipulation de fichiers\n",
    "import os\n",
    "import glob\n",
    "from pathlib import Path\n",
    "\n",
    "# Prépa données\n",
    "from sklearn.model_selection import train_test_split\n",
    "\n",
    "# Evaluation\n",
    "from sklearn.metrics import confusion_matrix\n",
    "from sklearn.metrics import classification_report\n",
    "\n",
    "# Deep learning\n",
    "import tensorflow as tf\n",
    "from tensorflow.keras.layers import RNN,GRUCell,Dropout,GlobalAveragePooling1D,Dense,Embedding\n",
    "from tensorflow.keras import Sequential\n",
    "\n",
    "# Txt mining\n",
    "import re\n",
    "\n",
    "# MISC\n",
    "import warnings\n",
    "warnings.filterwarnings(\"ignore\")\n",
    "import swifter\n",
    "import random"
   ]
  },
  {
   "cell_type": "markdown",
   "id": "8c81e35e",
   "metadata": {},
   "source": [
    "### Setup & exploration <a class=\"anchor\" id=\"chapter2\"></a>"
   ]
  },
  {
   "cell_type": "markdown",
   "id": "69d2a039",
   "metadata": {},
   "source": [
    "On récupère les oeuvre A : Moby dick et B : Harry Potter"
   ]
  },
  {
   "cell_type": "code",
   "execution_count": 2,
   "id": "bc6715bf",
   "metadata": {},
   "outputs": [],
   "source": [
    "with open('melville-moby_dick.txt','r',encoding ='utf-8') as file :\n",
    "    A = file.read()\n",
    "    \n",
    "with open('Book1.txt','r',encoding ='utf-8') as file :\n",
    "    B = file.read()"
   ]
  },
  {
   "cell_type": "markdown",
   "id": "23d9fbad",
   "metadata": {},
   "source": [
    "On renseigne chaque phrase dans une liste, pour l'oeuvre A. L'oeuvre B est construite de sorte qu'il faut d'abord suppriemr les pieds de pages"
   ]
  },
  {
   "cell_type": "code",
   "execution_count": 3,
   "id": "4037ed2a",
   "metadata": {},
   "outputs": [],
   "source": [
    "from nltk.tokenize import PunktSentenceTokenizer\n",
    "\n",
    "tokenizer_A = PunktSentenceTokenizer()\n",
    "Moby_dick = tokenizer_A.tokenize(A)\n",
    "\n"
   ]
  },
  {
   "cell_type": "markdown",
   "id": "cc2d8583",
   "metadata": {},
   "source": [
    "On supprime le \\n et on bâti une liste contenant chaque phrase de l'oeuvre"
   ]
  },
  {
   "cell_type": "code",
   "execution_count": 4,
   "id": "61c31dbb",
   "metadata": {},
   "outputs": [],
   "source": [
    "def filtre_A(txt):\n",
    "    r = re.compile(r\"[^\\n]+\")\n",
    "    temp = r.findall(txt)\n",
    "    return ' '.join(temp)\n",
    "\n",
    "def filtre_B(txt):\n",
    "    r = re.compile(r\"[^\\n]+\")\n",
    "    temp = r.findall(txt)\n",
    "    txt_2 = ' '.join(temp)\n",
    "    \n",
    "    s = re.compile(r\"\\D\")\n",
    "    temp2 = s.findall(txt_2)\n",
    "                   \n",
    "    return ' '.join(temp2)\n"
   ]
  },
  {
   "cell_type": "code",
   "execution_count": 5,
   "id": "4beb1a40",
   "metadata": {},
   "outputs": [],
   "source": [
    "Moby = [element for liste in Moby_dick for element in filtre_A(liste) ]\n",
    "Moby2 = ''.join(Moby)\n",
    "Moby3 = Moby2.split('.')\n",
    "\n",
    "Harry = [element for liste in B for element in filtre_B(liste) ]\n",
    "Harry2 = ''.join(Harry)\n",
    "Harry3 = Harry2.replace('Page |  Harry Potter and the Philosophers Stone - J.K. Rowling','')\n",
    "Harry4 = Harry3.replace('Mr.','Mr')\n",
    "Harry5 = Harry4.replace('Mrs.','Mrs')\n",
    "Harry6 = Harry5.split('.')"
   ]
  },
  {
   "cell_type": "markdown",
   "id": "72b91335",
   "metadata": {},
   "source": [
    "On crée les dataframes associées:"
   ]
  },
  {
   "cell_type": "code",
   "execution_count": 6,
   "id": "ab63f604",
   "metadata": {},
   "outputs": [],
   "source": [
    "df_A = pd.DataFrame(Moby3,columns=['Sentence'])\n",
    "df_A['oeuvre']=0\n",
    "\n",
    "df_B = pd.DataFrame(Harry6,columns=['Sentence'])\n",
    "df_B['oeuvre']=1"
   ]
  },
  {
   "cell_type": "markdown",
   "id": "5352b408",
   "metadata": {},
   "source": [
    "On concatène les deux dataframe et on procèdes aux opérations suivantes:"
   ]
  },
  {
   "cell_type": "code",
   "execution_count": 7,
   "id": "df19de7f",
   "metadata": {},
   "outputs": [],
   "source": [
    "df = pd.concat([df_A,df_B],axis = 0).reset_index().drop(['index'],axis = 1)\n",
    "\n",
    "# On récupère le nombre de character de chaque phrase\n",
    "df['num_char'] = df.Sentence.apply(lambda x : len(x))\n",
    "\n",
    "# On élimine les espaces\n",
    "df = df[df['num_char']>0].reset_index().drop(['index'],axis = 1)"
   ]
  },
  {
   "cell_type": "markdown",
   "id": "58aa9c7a",
   "metadata": {},
   "source": [
    "On affiche la distribution"
   ]
  },
  {
   "cell_type": "code",
   "execution_count": 8,
   "id": "4aaf4369",
   "metadata": {},
   "outputs": [
    {
     "data": {
      "image/png": "[encoded data removed]",
      "text/plain": [
       "<Figure size 432x288 with 1 Axes>"
      ]
     },
     "metadata": {
      "needs_background": "light"
     },
     "output_type": "display_data"
    }
   ],
   "source": [
    "plt.barh(df.num_char.value_counts().index,df.num_char.value_counts().values)\n",
    "plt.xlabel('Count')\n",
    "plt.ylabel('Nb de char / phrase')\n",
    "plt.ylim([0,500])\n",
    "plt.show()"
   ]
  },
  {
   "cell_type": "markdown",
   "id": "7c0547fb",
   "metadata": {},
   "source": [
    "Une phrase de 100 caractères semble suffisante pour conduire l'analyse:"
   ]
  },
  {
   "cell_type": "code",
   "execution_count": 9,
   "id": "0671f217",
   "metadata": {},
   "outputs": [],
   "source": [
    "data = df[df['num_char']>=100].reset_index().drop(['index'],axis = 1)\n",
    "data['phrase']=data.Sentence.apply(lambda x : x[:100])"
   ]
  },
  {
   "cell_type": "markdown",
   "id": "4d81a715",
   "metadata": {},
   "source": [
    "On récupère la liste des mots"
   ]
  },
  {
   "cell_type": "code",
   "execution_count": 10,
   "id": "a11c0640",
   "metadata": {},
   "outputs": [],
   "source": [
    "def filtre_mot(texte):\n",
    "    r = re.compile(r\"\\W+\")\n",
    "    return r.split(texte)\n",
    "                   \n",
    "word = [element for liste in data.phrase.values for element in filtre_mot(liste)]"
   ]
  },
  {
   "cell_type": "markdown",
   "id": "d8415a8c",
   "metadata": {},
   "source": [
    "On stocke dans une liste tous les mots uniques"
   ]
  },
  {
   "cell_type": "code",
   "execution_count": 11,
   "id": "1fd32085",
   "metadata": {},
   "outputs": [],
   "source": [
    "unik_word = sorted(set(word))"
   ]
  },
  {
   "cell_type": "code",
   "execution_count": 12,
   "id": "841e07b0",
   "metadata": {},
   "outputs": [
    {
     "data": {
      "text/plain": [
       "13658"
      ]
     },
     "execution_count": 12,
     "metadata": {},
     "output_type": "execute_result"
    }
   ],
   "source": [
    "len(unik_word)"
   ]
  },
  {
   "cell_type": "markdown",
   "id": "f55bdc54",
   "metadata": {},
   "source": [
    "Dans la mesure où les algorithmes ne traitent que des nombres, il nous faut transformer chaque phrase en liste d'entier. On produit pour chaque phrase une liste des mots qui la compose puis on y associera une liste d'entier\n"
   ]
  },
  {
   "cell_type": "code",
   "execution_count": 13,
   "id": "bdaef262",
   "metadata": {},
   "outputs": [
    {
     "data": {
      "text/plain": [
       "array([11], dtype=int64)"
      ]
     },
     "execution_count": 13,
     "metadata": {},
     "output_type": "execute_result"
    }
   ],
   "source": [
    "# On transforme chaque phrase en liste de mot\n",
    "data['liste_mot'] = data['phrase'].apply(lambda x : filtre_mot(x))\n",
    "\n",
    "# On vérifie le nombre de mot contenu dans chaque liste et on retient le nombre le plus faible\n",
    "data['verif'] = data.liste_mot.apply(lambda x: len(x))\n",
    "\n",
    "# On ne conserve pour chaque liste que le s11 premeirs termes\n",
    "data['final']=data.liste_mot.apply(lambda x : x[:11])\n",
    "\n",
    "# On vérifie\n",
    "data['verif2'] = data.final.apply(lambda x: len(x))\n",
    "data.verif2.unique()"
   ]
  },
  {
   "cell_type": "markdown",
   "id": "64b91ad7",
   "metadata": {},
   "source": [
    "On vérifie que les classes ne sont pas déséqulibrées"
   ]
  },
  {
   "cell_type": "code",
   "execution_count": 14,
   "id": "cdcc688d",
   "metadata": {},
   "outputs": [
    {
     "data": {
      "text/plain": [
       "0    4527\n",
       "1    1418\n",
       "Name: oeuvre, dtype: int64"
      ]
     },
     "execution_count": 14,
     "metadata": {},
     "output_type": "execute_result"
    }
   ],
   "source": [
    "data.oeuvre.value_counts()"
   ]
  },
  {
   "cell_type": "markdown",
   "id": "adaab086",
   "metadata": {},
   "source": [
    "On affiche la dataframe finale support à l'analyse"
   ]
  },
  {
   "cell_type": "code",
   "execution_count": 15,
   "id": "2e687eb4",
   "metadata": {},
   "outputs": [
    {
     "data": {
      "text/html": [
       "<div>\n",
       "<style scoped>\n",
       "    .dataframe tbody tr th:only-of-type {\n",
       "        vertical-align: middle;\n",
       "    }\n",
       "\n",
       "    .dataframe tbody tr th {\n",
       "        vertical-align: top;\n",
       "    }\n",
       "\n",
       "    .dataframe thead th {\n",
       "        text-align: right;\n",
       "    }\n",
       "</style>\n",
       "<table border=\"1\" class=\"dataframe\">\n",
       "  <thead>\n",
       "    <tr style=\"text-align: right;\">\n",
       "      <th></th>\n",
       "      <th>Sentence</th>\n",
       "      <th>oeuvre</th>\n",
       "      <th>num_char</th>\n",
       "      <th>phrase</th>\n",
       "      <th>liste_mot</th>\n",
       "      <th>verif</th>\n",
       "      <th>final</th>\n",
       "      <th>verif2</th>\n",
       "    </tr>\n",
       "  </thead>\n",
       "  <tbody>\n",
       "    <tr>\n",
       "      <th>0</th>\n",
       "      <td>Some years ago--never mind how long precisely-...</td>\n",
       "      <td>0</td>\n",
       "      <td>208</td>\n",
       "      <td>Some years ago--never mind how long precisely-...</td>\n",
       "      <td>[Some, years, ago, never, mind, how, long, pre...</td>\n",
       "      <td>19</td>\n",
       "      <td>[Some, years, ago, never, mind, how, long, pre...</td>\n",
       "      <td>11</td>\n",
       "    </tr>\n",
       "    <tr>\n",
       "      <th>1</th>\n",
       "      <td>Whenever I find myself growing grim about the ...</td>\n",
       "      <td>0</td>\n",
       "      <td>493</td>\n",
       "      <td>Whenever I find myself growing grim about the ...</td>\n",
       "      <td>[Whenever, I, find, myself, growing, grim, abo...</td>\n",
       "      <td>19</td>\n",
       "      <td>[Whenever, I, find, myself, growing, grim, abo...</td>\n",
       "      <td>11</td>\n",
       "    </tr>\n",
       "    <tr>\n",
       "      <th>2</th>\n",
       "      <td>If they but knew it, almost all men in their d...</td>\n",
       "      <td>0</td>\n",
       "      <td>136</td>\n",
       "      <td>If they but knew it, almost all men in their d...</td>\n",
       "      <td>[If, they, but, knew, it, almost, all, men, in...</td>\n",
       "      <td>20</td>\n",
       "      <td>[If, they, but, knew, it, almost, all, men, in...</td>\n",
       "      <td>11</td>\n",
       "    </tr>\n",
       "    <tr>\n",
       "      <th>3</th>\n",
       "      <td>There now is your insular city of the Manhatto...</td>\n",
       "      <td>0</td>\n",
       "      <td>141</td>\n",
       "      <td>There now is your insular city of the Manhatto...</td>\n",
       "      <td>[There, now, is, your, insular, city, of, the,...</td>\n",
       "      <td>19</td>\n",
       "      <td>[There, now, is, your, insular, city, of, the,...</td>\n",
       "      <td>11</td>\n",
       "    </tr>\n",
       "    <tr>\n",
       "      <th>4</th>\n",
       "      <td>Its extreme downtown is the battery, where tha...</td>\n",
       "      <td>0</td>\n",
       "      <td>154</td>\n",
       "      <td>Its extreme downtown is the battery, where tha...</td>\n",
       "      <td>[Its, extreme, downtown, is, the, battery, whe...</td>\n",
       "      <td>18</td>\n",
       "      <td>[Its, extreme, downtown, is, the, battery, whe...</td>\n",
       "      <td>11</td>\n",
       "    </tr>\n",
       "    <tr>\n",
       "      <th>...</th>\n",
       "      <td>...</td>\n",
       "      <td>...</td>\n",
       "      <td>...</td>\n",
       "      <td>...</td>\n",
       "      <td>...</td>\n",
       "      <td>...</td>\n",
       "      <td>...</td>\n",
       "      <td>...</td>\n",
       "    </tr>\n",
       "    <tr>\n",
       "      <th>5940</th>\n",
       "      <td>And suddenly, their wardrobes were empty, the...</td>\n",
       "      <td>1</td>\n",
       "      <td>694</td>\n",
       "      <td>And suddenly, their wardrobes were empty, the...</td>\n",
       "      <td>[, And, suddenly, their, wardrobes, were, empt...</td>\n",
       "      <td>17</td>\n",
       "      <td>[, And, suddenly, their, wardrobes, were, empt...</td>\n",
       "      <td>11</td>\n",
       "    </tr>\n",
       "    <tr>\n",
       "      <th>5941</th>\n",
       "      <td>A wizened old guard was up by the ticket barr...</td>\n",
       "      <td>1</td>\n",
       "      <td>204</td>\n",
       "      <td>A wizened old guard was up by the ticket barr...</td>\n",
       "      <td>[, A, wizened, old, guard, was, up, by, the, t...</td>\n",
       "      <td>21</td>\n",
       "      <td>[, A, wizened, old, guard, was, up, by, the, t...</td>\n",
       "      <td>11</td>\n",
       "    </tr>\n",
       "    <tr>\n",
       "      <th>5942</th>\n",
       "      <td>“There he is, Mom, there he is, look!”  It wa...</td>\n",
       "      <td>1</td>\n",
       "      <td>115</td>\n",
       "      <td>“There he is, Mom, there he is, look!”  It wa...</td>\n",
       "      <td>[, There, he, is, Mom, there, he, is, look, It...</td>\n",
       "      <td>22</td>\n",
       "      <td>[, There, he, is, Mom, there, he, is, look, It...</td>\n",
       "      <td>11</td>\n",
       "    </tr>\n",
       "    <tr>\n",
       "      <th>5943</th>\n",
       "      <td>” “Ready, are you?” It was Uncle Vernon, still...</td>\n",
       "      <td>1</td>\n",
       "      <td>185</td>\n",
       "      <td>” “Ready, are you?” It was Uncle Vernon, still...</td>\n",
       "      <td>[, Ready, are, you, It, was, Uncle, Vernon, st...</td>\n",
       "      <td>17</td>\n",
       "      <td>[, Ready, are, you, It, was, Uncle, Vernon, st...</td>\n",
       "      <td>11</td>\n",
       "    </tr>\n",
       "    <tr>\n",
       "      <th>5944</th>\n",
       "      <td>” “Hope you have — er — a good holiday,” said ...</td>\n",
       "      <td>1</td>\n",
       "      <td>138</td>\n",
       "      <td>” “Hope you have — er — a good holiday,” said ...</td>\n",
       "      <td>[, Hope, you, have, er, a, good, holiday, said...</td>\n",
       "      <td>16</td>\n",
       "      <td>[, Hope, you, have, er, a, good, holiday, said...</td>\n",
       "      <td>11</td>\n",
       "    </tr>\n",
       "  </tbody>\n",
       "</table>\n",
       "<p>5945 rows × 8 columns</p>\n",
       "</div>"
      ],
      "text/plain": [
       "                                               Sentence  oeuvre  num_char  \\\n",
       "0     Some years ago--never mind how long precisely-...       0       208   \n",
       "1     Whenever I find myself growing grim about the ...       0       493   \n",
       "2     If they but knew it, almost all men in their d...       0       136   \n",
       "3     There now is your insular city of the Manhatto...       0       141   \n",
       "4     Its extreme downtown is the battery, where tha...       0       154   \n",
       "...                                                 ...     ...       ...   \n",
       "5940   And suddenly, their wardrobes were empty, the...       1       694   \n",
       "5941   A wizened old guard was up by the ticket barr...       1       204   \n",
       "5942   “There he is, Mom, there he is, look!”  It wa...       1       115   \n",
       "5943  ” “Ready, are you?” It was Uncle Vernon, still...       1       185   \n",
       "5944  ” “Hope you have — er — a good holiday,” said ...       1       138   \n",
       "\n",
       "                                                 phrase  \\\n",
       "0     Some years ago--never mind how long precisely-...   \n",
       "1     Whenever I find myself growing grim about the ...   \n",
       "2     If they but knew it, almost all men in their d...   \n",
       "3     There now is your insular city of the Manhatto...   \n",
       "4     Its extreme downtown is the battery, where tha...   \n",
       "...                                                 ...   \n",
       "5940   And suddenly, their wardrobes were empty, the...   \n",
       "5941   A wizened old guard was up by the ticket barr...   \n",
       "5942   “There he is, Mom, there he is, look!”  It wa...   \n",
       "5943  ” “Ready, are you?” It was Uncle Vernon, still...   \n",
       "5944  ” “Hope you have — er — a good holiday,” said ...   \n",
       "\n",
       "                                              liste_mot  verif  \\\n",
       "0     [Some, years, ago, never, mind, how, long, pre...     19   \n",
       "1     [Whenever, I, find, myself, growing, grim, abo...     19   \n",
       "2     [If, they, but, knew, it, almost, all, men, in...     20   \n",
       "3     [There, now, is, your, insular, city, of, the,...     19   \n",
       "4     [Its, extreme, downtown, is, the, battery, whe...     18   \n",
       "...                                                 ...    ...   \n",
       "5940  [, And, suddenly, their, wardrobes, were, empt...     17   \n",
       "5941  [, A, wizened, old, guard, was, up, by, the, t...     21   \n",
       "5942  [, There, he, is, Mom, there, he, is, look, It...     22   \n",
       "5943  [, Ready, are, you, It, was, Uncle, Vernon, st...     17   \n",
       "5944  [, Hope, you, have, er, a, good, holiday, said...     16   \n",
       "\n",
       "                                                  final  verif2  \n",
       "0     [Some, years, ago, never, mind, how, long, pre...      11  \n",
       "1     [Whenever, I, find, myself, growing, grim, abo...      11  \n",
       "2     [If, they, but, knew, it, almost, all, men, in...      11  \n",
       "3     [There, now, is, your, insular, city, of, the,...      11  \n",
       "4     [Its, extreme, downtown, is, the, battery, whe...      11  \n",
       "...                                                 ...     ...  \n",
       "5940  [, And, suddenly, their, wardrobes, were, empt...      11  \n",
       "5941  [, A, wizened, old, guard, was, up, by, the, t...      11  \n",
       "5942  [, There, he, is, Mom, there, he, is, look, It...      11  \n",
       "5943  [, Ready, are, you, It, was, Uncle, Vernon, st...      11  \n",
       "5944  [, Hope, you, have, er, a, good, holiday, said...      11  \n",
       "\n",
       "[5945 rows x 8 columns]"
      ]
     },
     "execution_count": 15,
     "metadata": {},
     "output_type": "execute_result"
    }
   ],
   "source": [
    "data"
   ]
  },
  {
   "cell_type": "markdown",
   "id": "6709d9a0",
   "metadata": {},
   "source": [
    "On transforme chaque liste de mot en séquence d'entier, sur la base des mots uniques précédemment obtenus"
   ]
  },
  {
   "cell_type": "code",
   "execution_count": 16,
   "id": "98e5713c",
   "metadata": {},
   "outputs": [],
   "source": [
    "tokenizer_word = tf.keras.preprocessing.text.Tokenizer(num_words=len(unik_word))\n",
    "tokenizer_word.fit_on_texts(data.final)\n",
    "\n",
    "X = tokenizer_word.texts_to_sequences(data.final)\n"
   ]
  },
  {
   "cell_type": "markdown",
   "id": "37dc3beb",
   "metadata": {},
   "source": [
    "On confirme via la méthode ci-dessous que chaque séquence présente bien 11 élements"
   ]
  },
  {
   "cell_type": "code",
   "execution_count": 17,
   "id": "0f3e44f1",
   "metadata": {},
   "outputs": [],
   "source": [
    "X = tf.keras.preprocessing.sequence.pad_sequences(X, maxlen=11, padding='post', truncating='post')"
   ]
  },
  {
   "cell_type": "markdown",
   "id": "bda4d8b5",
   "metadata": {},
   "source": [
    "On sépare le jeu en train et test"
   ]
  },
  {
   "cell_type": "code",
   "execution_count": 18,
   "id": "6b262a0a",
   "metadata": {},
   "outputs": [],
   "source": [
    "X_train_top,X_test_top,y_train_top,y_test_top = train_test_split(X,data.oeuvre,test_size = 0.3,random_state = 1234,shuffle = True)"
   ]
  },
  {
   "cell_type": "markdown",
   "id": "35aec036",
   "metadata": {},
   "source": [
    "On présente les données sous format array numpy"
   ]
  },
  {
   "cell_type": "code",
   "execution_count": 19,
   "id": "21c517ee",
   "metadata": {},
   "outputs": [
    {
     "name": "stdout",
     "output_type": "stream",
     "text": [
      "shape of X_train_top : (4161, 11)\n",
      "shape of X_test_top : (1784, 11)\n",
      "shape of y_train_top : (4161,)\n",
      "shape of y_test_top : (1784,)\n"
     ]
    }
   ],
   "source": [
    "X_train_top = np.asarray(X_train_top)\n",
    "X_test_top = np.asarray(X_test_top)\n",
    "y_train_top = np.asarray(y_train_top)\n",
    "y_test_top = np.asarray(y_test_top)\n",
    "\n",
    "print(f'shape of X_train_top : {X_train_top.shape}')\n",
    "print(f'shape of X_test_top : {X_test_top.shape}')\n",
    "print(f'shape of y_train_top : {y_train_top.shape}')\n",
    "print(f'shape of y_test_top : {y_test_top.shape}')"
   ]
  },
  {
   "cell_type": "markdown",
   "id": "053bff9a",
   "metadata": {},
   "source": [
    "On crée les dictionnaires de correspondances"
   ]
  },
  {
   "cell_type": "code",
   "execution_count": 20,
   "id": "c30286ad",
   "metadata": {},
   "outputs": [],
   "source": [
    "\n",
    "word2idx = tokenizer_word.word_index\n",
    "idx2word = tokenizer_word.index_word\n",
    "vocab_word_size = tokenizer_word.num_words"
   ]
  },
  {
   "cell_type": "markdown",
   "id": "2e111629",
   "metadata": {},
   "source": [
    "On instancie et on entraine un modele RNN"
   ]
  },
  {
   "cell_type": "code",
   "execution_count": 21,
   "id": "ed7036a3",
   "metadata": {},
   "outputs": [
    {
     "name": "stdout",
     "output_type": "stream",
     "text": [
      "Epoch 1/15\n",
      "33/33 [==============================] - 5s 87ms/step - loss: 0.4651 - accuracy: 0.7818 - val_loss: 0.1250 - val_accuracy: 0.9524\n",
      "Epoch 2/15\n",
      "33/33 [==============================] - 2s 75ms/step - loss: 0.0741 - accuracy: 0.9716 - val_loss: 0.1341 - val_accuracy: 0.9322\n",
      "Epoch 3/15\n",
      "33/33 [==============================] - 3s 77ms/step - loss: 0.0192 - accuracy: 0.9933 - val_loss: 0.1013 - val_accuracy: 0.9658\n",
      "Epoch 4/15\n",
      "33/33 [==============================] - 3s 76ms/step - loss: 0.0032 - accuracy: 0.9995 - val_loss: 0.1210 - val_accuracy: 0.9636\n",
      "Epoch 5/15\n",
      "33/33 [==============================] - 3s 77ms/step - loss: 0.0016 - accuracy: 0.9995 - val_loss: 0.1376 - val_accuracy: 0.9619\n",
      "Epoch 6/15\n",
      "33/33 [==============================] - 3s 78ms/step - loss: 6.1034e-04 - accuracy: 1.0000 - val_loss: 0.1390 - val_accuracy: 0.9630\n",
      "Epoch 7/15\n",
      "33/33 [==============================] - 2s 76ms/step - loss: 1.2689e-04 - accuracy: 1.0000 - val_loss: 0.1514 - val_accuracy: 0.9619\n",
      "Epoch 8/15\n",
      "33/33 [==============================] - 2s 75ms/step - loss: 7.0989e-05 - accuracy: 1.0000 - val_loss: 0.1588 - val_accuracy: 0.9613\n",
      "Epoch 9/15\n",
      "33/33 [==============================] - 2s 75ms/step - loss: 5.1980e-05 - accuracy: 1.0000 - val_loss: 0.1653 - val_accuracy: 0.9608\n",
      "Epoch 10/15\n",
      "33/33 [==============================] - 2s 75ms/step - loss: 3.4476e-05 - accuracy: 1.0000 - val_loss: 0.1705 - val_accuracy: 0.9613\n",
      "Epoch 11/15\n",
      "33/33 [==============================] - 2s 75ms/step - loss: 3.1678e-05 - accuracy: 1.0000 - val_loss: 0.1753 - val_accuracy: 0.9613\n",
      "Epoch 12/15\n",
      "33/33 [==============================] - 2s 75ms/step - loss: 2.5154e-05 - accuracy: 1.0000 - val_loss: 0.1796 - val_accuracy: 0.9613\n",
      "Epoch 13/15\n",
      "33/33 [==============================] - 3s 77ms/step - loss: 2.0977e-05 - accuracy: 1.0000 - val_loss: 0.1835 - val_accuracy: 0.9608\n",
      "Epoch 14/15\n",
      "33/33 [==============================] - 2s 75ms/step - loss: 1.5726e-05 - accuracy: 1.0000 - val_loss: 0.1871 - val_accuracy: 0.9602\n",
      "Epoch 15/15\n",
      "33/33 [==============================] - 2s 75ms/step - loss: 1.4483e-05 - accuracy: 1.0000 - val_loss: 0.1901 - val_accuracy: 0.9608\n"
     ]
    }
   ],
   "source": [
    "model = tf.keras.Sequential()\n",
    "\n",
    "model.add(Embedding(vocab_word_size+1,256,input_length=11))\n",
    "model.add(RNN(GRUCell(256),return_sequences = False))\n",
    "model.add(Dropout(0.4))\n",
    "\n",
    "model.add(Dense(256,'relu'))\n",
    "\n",
    "model.add(Dropout(0.3))\n",
    "\n",
    "model.add(Dense(1,'sigmoid'))\n",
    "\n",
    "epok = 15\n",
    "\n",
    "opt = tf.keras.optimizers.Adam(learning_rate=0.007)\n",
    "\n",
    "model.compile(loss = 'binary_crossentropy',optimizer ='adam',metrics =[\"accuracy\"])\n",
    "\n",
    "training_history = model.fit(X_train_top,y_train_top,validation_data=(X_test_top,y_test_top) ,epochs = epok, batch_size = 128)"
   ]
  },
  {
   "cell_type": "markdown",
   "id": "3c2a664b",
   "metadata": {},
   "source": [
    "On affiche l'évolution de l'accuracy pour le train et le test"
   ]
  },
  {
   "cell_type": "code",
   "execution_count": 22,
   "id": "cb3dd60c",
   "metadata": {},
   "outputs": [
    {
     "data": {
      "image/png": "[encoded data removed]",
      "text/plain": [
       "<Figure size 432x288 with 1 Axes>"
      ]
     },
     "metadata": {
      "needs_background": "light"
     },
     "output_type": "display_data"
    }
   ],
   "source": [
    "train_acc = training_history.history['accuracy']\n",
    "val_acc = training_history.history['val_accuracy']\n",
    "\n",
    "plt.xlabel('Epochs')\n",
    "plt.ylabel('accuracy')\n",
    "\n",
    "plt.plot(np.arange(1,epok +1,1),training_history.history['accuracy'], label='Training accuracy', color='blue')\n",
    "plt.plot(np.arange(1,epok +1,1),training_history.history['val_accuracy'], label='Validation accuracy', color='red')\n",
    "\n",
    "plt.legend()\n",
    "\n",
    "plt.show()"
   ]
  },
  {
   "cell_type": "markdown",
   "id": "5d03b93c",
   "metadata": {},
   "source": [
    "On produit la prédiction des classes à partir du jeu de test"
   ]
  },
  {
   "cell_type": "code",
   "execution_count": 23,
   "id": "b2453487",
   "metadata": {},
   "outputs": [],
   "source": [
    "y_sigmoid = model.predict(X_test_top)\n",
    "y_pred = np.round(y_sigmoid).reshape(-1)"
   ]
  },
  {
   "cell_type": "markdown",
   "id": "992f65ae",
   "metadata": {},
   "source": [
    "On définit une fonction pour afficher la matrice de confusion"
   ]
  },
  {
   "cell_type": "code",
   "execution_count": 24,
   "id": "f230d4cf",
   "metadata": {},
   "outputs": [],
   "source": [
    "def plot_cm(*args): # On crée une fonction pour afficher une ou plusieurs matrices de confusion\n",
    "\n",
    "    liste =[]\n",
    "    for i in args:\n",
    "        liste.append(i)\n",
    "\n",
    "    classes = range(2)\n",
    "    if len(liste)>=2:\n",
    "        plt.figure(figsize=(len(liste)+8,len(liste)+8))\n",
    "    else:\n",
    "        plt.figure(figsize=(len(liste)+4,len(liste)+4))\n",
    "\n",
    "    for k,val in enumerate(liste):\n",
    "\n",
    "        plt.subplot(1,len(liste),k+1)\n",
    "        plt.imshow(val,cmap ='ocean')\n",
    "        tick_marks = np.arange(len(classes))\n",
    "        plt.xticks(tick_marks,classes)\n",
    "        plt.yticks(tick_marks,classes)\n",
    "        plt.grid(False)\n",
    "        plt.ylabel('réalité')\n",
    "        plt.xlabel('prédiction')\n",
    "        #plt.title(f'name[k])\n",
    "\n",
    "        for i in range(liste[k].shape[0]):\n",
    "            for j in range(liste[k].shape[1]):\n",
    "        \n",
    "                plt.text(i,j,liste[k][j,i])\n",
    "           \n",
    "    plt.show()"
   ]
  },
  {
   "cell_type": "markdown",
   "id": "7719ddfa",
   "metadata": {},
   "source": [
    "On affiche la matrice de confusion"
   ]
  },
  {
   "cell_type": "code",
   "execution_count": 25,
   "id": "cccd6126",
   "metadata": {},
   "outputs": [
    {
     "data": {
      "image/png": "[encoded data removed]",
      "text/plain": [
       "<Figure size 360x360 with 1 Axes>"
      ]
     },
     "metadata": {
      "needs_background": "light"
     },
     "output_type": "display_data"
    }
   ],
   "source": [
    "cm = confusion_matrix(y_test_top, y_pred)\n",
    "plot_cm(cm)"
   ]
  },
  {
   "cell_type": "markdown",
   "id": "bb5ea7b5",
   "metadata": {},
   "source": [
    "On affiche le rapport de classification"
   ]
  },
  {
   "cell_type": "code",
   "execution_count": 26,
   "id": "6bb22d05",
   "metadata": {},
   "outputs": [
    {
     "name": "stdout",
     "output_type": "stream",
     "text": [
      "              precision    recall  f1-score   support\n",
      "\n",
      "   Moby Dick       0.97      0.98      0.97      1355\n",
      "Harry Potter       0.93      0.91      0.92       429\n",
      "\n",
      "    accuracy                           0.96      1784\n",
      "   macro avg       0.95      0.94      0.95      1784\n",
      "weighted avg       0.96      0.96      0.96      1784\n",
      "\n"
     ]
    }
   ],
   "source": [
    "\n",
    "target_names=['Moby Dick','Harry Potter']\n",
    "print(classification_report(y_test_top, y_pred, target_names=target_names))"
   ]
  }
 ],
 "metadata": {
  "kernelspec": {
   "display_name": "Python 3",
   "language": "python",
   "name": "python3"
  },
  "language_info": {
   "codemirror_mode": {
    "name": "ipython",
    "version": 3
   },
   "file_extension": ".py",
   "mimetype": "text/x-python",
   "name": "python",
   "nbconvert_exporter": "python",
   "pygments_lexer": "ipython3",
   "version": "3.8.8"
  }
 },
 "nbformat": 4,
 "nbformat_minor": 5
}
